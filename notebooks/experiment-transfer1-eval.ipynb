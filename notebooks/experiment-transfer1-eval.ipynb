{
 "cells": [
  {
   "cell_type": "markdown",
   "id": "089f1da7-c7da-409c-ac34-c9e4b83e641e",
   "metadata": {},
   "source": [
    "# Experiment on NTCIR-17 Transfer Task Eval Dataset\n",
    "\n",
    "This notebook shows how to apply BM25 to the eval dataset of NTCIR-17 Transfer Task using [PyTerrier](https://pyterrier.readthedocs.io/en/latest/) (v0.9.2)."
   ]
  },
  {
   "cell_type": "markdown",
   "id": "8b5d8447-ae65-4a2f-be74-b469d9842b6e",
   "metadata": {},
   "source": [
    "## Previous Step\n",
    "\n",
    "- `preprocess-transfer1-eval-ipynb`\n",
    "\n",
    "## Requirement\n",
    "\n",
    "- Java v11"
   ]
  },
  {
   "cell_type": "markdown",
   "id": "30a0eccc-074e-4d2e-9536-144c58191c0e",
   "metadata": {},
   "source": [
    "## Path"
   ]
  },
  {
   "cell_type": "code",
   "execution_count": 1,
   "id": "16552c30-96ce-4e3e-898f-3aea6b641952",
   "metadata": {
    "tags": []
   },
   "outputs": [],
   "source": [
    "import os\n",
    "os.environ['INDEX'] = '../indexes/ntcir17-transfer/eval'\n",
    "os.environ['RUN'] = '../runs/ntcir17-transfer/eval'"
   ]
  },
  {
   "cell_type": "markdown",
   "id": "17bfd4f9-905d-4ed9-93ad-0ac34d1819e9",
   "metadata": {},
   "source": [
    "## Datasets"
   ]
  },
  {
   "cell_type": "code",
   "execution_count": 2,
   "id": "703fa07a-aeff-4221-a6ea-fb04b2290a1e",
   "metadata": {},
   "outputs": [],
   "source": [
    "import sys\n",
    "!{sys.executable} -m pip install -q ir_datasets"
   ]
  },
  {
   "cell_type": "code",
   "execution_count": 3,
   "id": "71f8014e-2c66-4927-b255-77acb72fb85e",
   "metadata": {},
   "outputs": [],
   "source": [
    "sys.path.append(os.path.join(os.path.dirname(os.path.abspath('__file__')), '../datasets'))"
   ]
  },
  {
   "cell_type": "code",
   "execution_count": 4,
   "id": "864c0eb2-88a3-4a38-a7f5-55044dc9e01d",
   "metadata": {},
   "outputs": [],
   "source": [
    "import ir_datasets\n",
    "import ntcir_transfer\n",
    "dataset = ir_datasets.load('ntcir-transfer/1/eval')"
   ]
  },
  {
   "cell_type": "markdown",
   "id": "3e496db9-abf5-4e54-a7e4-9a894aaa8673",
   "metadata": {},
   "source": [
    "## Tokenization\n",
    "\n",
    "- In this example, we use [SudachiPy](https://github.com/WorksApplications/SudachiPy) (v0.5.4) + sudachidict_core dictionary + SplitMode.A\n",
    "- Other tokenizers can also be used"
   ]
  },
  {
   "cell_type": "code",
   "execution_count": 5,
   "id": "2ed06226-ae78-4b45-8f1f-2f73fbc6a260",
   "metadata": {},
   "outputs": [],
   "source": [
    "import sys\n",
    "!{sys.executable} -m pip install -q sudachipy sudachidict_core"
   ]
  },
  {
   "cell_type": "code",
   "execution_count": 6,
   "id": "55019e1a-6099-41c0-a689-439234116479",
   "metadata": {},
   "outputs": [],
   "source": [
    "import re\n",
    "import json\n",
    "from sudachipy import tokenizer\n",
    "from sudachipy import dictionary\n",
    "tokenizer_obj = dictionary.Dictionary().create()\n",
    "mode = tokenizer.Tokenizer.SplitMode.A"
   ]
  },
  {
   "cell_type": "code",
   "execution_count": 7,
   "id": "9ed61922-729d-446d-83af-2daebdab21fe",
   "metadata": {},
   "outputs": [],
   "source": [
    "def tokenize_text(text):\n",
    "    atok = ' '.join([m.surface() for m in tokenizer_obj.tokenize(text, mode)])\n",
    "    return atok"
   ]
  },
  {
   "cell_type": "code",
   "execution_count": 8,
   "id": "271489ae-af8d-4d27-8158-35169afae3fc",
   "metadata": {},
   "outputs": [
    {
     "data": {
      "text/plain": [
       "'すもも も もも も もも の うち'"
      ]
     },
     "execution_count": 8,
     "metadata": {},
     "output_type": "execute_result"
    }
   ],
   "source": [
    "tokenize_text('すもももももももものうち')"
   ]
  },
  {
   "cell_type": "markdown",
   "id": "63cc205a-bd9c-400d-a438-facf38252e6a",
   "metadata": {},
   "source": [
    "## Experiment"
   ]
  },
  {
   "cell_type": "markdown",
   "id": "e1981f98-d7a7-403f-a295-b3df073abcc8",
   "metadata": {},
   "source": [
    "### PyTerrier"
   ]
  },
  {
   "cell_type": "code",
   "execution_count": 9,
   "id": "1551effc-c2c1-409e-bb40-3465d5b4f86f",
   "metadata": {},
   "outputs": [
    {
     "data": {
      "text/plain": [
       "'/usr/lib/jvm/java-11-openjdk-amd64'"
      ]
     },
     "execution_count": 9,
     "metadata": {},
     "output_type": "execute_result"
    }
   ],
   "source": [
    "# Change JAVA_HOME to fit your environment\n",
    "JAVA_HOME = '/usr/lib/jvm/java-11-openjdk-amd64'\n",
    "os.environ['JAVA_HOME'] = JAVA_HOME\n",
    "os.getenv('JAVA_HOME')"
   ]
  },
  {
   "cell_type": "code",
   "execution_count": 10,
   "id": "31e10940-3128-4e13-bfdf-46c9da136cb7",
   "metadata": {
    "tags": []
   },
   "outputs": [],
   "source": [
    "import sys\n",
    "!{sys.executable} -m pip install -q python-terrier"
   ]
  },
  {
   "cell_type": "code",
   "execution_count": 11,
   "id": "127cca6a-3f0b-45e9-b0e1-27f871890b2c",
   "metadata": {},
   "outputs": [
    {
     "name": "stderr",
     "output_type": "stream",
     "text": [
      "PyTerrier 0.9.2 has loaded Terrier 5.7 (built by craigm on 2022-11-10 18:30) and terrier-helper 0.0.7\n",
      "\n",
      "No etc/terrier.properties, using terrier.default.properties for bootstrap configuration.\n"
     ]
    }
   ],
   "source": [
    "import pandas as pd\n",
    "import pyterrier as pt\n",
    "if not pt.started():\n",
    "  pt.init(tqdm='notebook')"
   ]
  },
  {
   "cell_type": "code",
   "execution_count": 12,
   "id": "4664308e-33cb-4557-bb18-85312a319e82",
   "metadata": {},
   "outputs": [],
   "source": [
    "dataset_pt = pt.get_dataset('irds:ntcir-transfer/1/eval')"
   ]
  },
  {
   "cell_type": "markdown",
   "id": "3e954951-001c-494d-8f70-6ae8b74ce37f",
   "metadata": {
    "tags": []
   },
   "source": [
    "### Indexing"
   ]
  },
  {
   "cell_type": "code",
   "execution_count": 13,
   "id": "2ce3d68a-9545-4e48-aeed-3f0dafa19377",
   "metadata": {},
   "outputs": [],
   "source": [
    "# !rm -rf $INDEX\n",
    "!mkdir -p $INDEX"
   ]
  },
  {
   "cell_type": "code",
   "execution_count": 14,
   "id": "0d974cd0-55f8-4fae-b3d8-c2340b4a207a",
   "metadata": {},
   "outputs": [],
   "source": [
    "indexer = pt.IterDictIndexer(os.getenv('INDEX'))\n",
    "indexer.setProperty(\"tokeniser\", \"UTFTokeniser\")\n",
    "indexer.setProperty(\"termpipelines\", \"\")"
   ]
  },
  {
   "cell_type": "code",
   "execution_count": 15,
   "id": "06ec5296-6a57-4b93-9ed9-8cdbdf512767",
   "metadata": {},
   "outputs": [],
   "source": [
    "def train_doc_generate():\n",
    "    for doc in dataset.docs_iter():\n",
    "        yield { 'docno': doc.doc_id, 'text': tokenize_text(doc.text) }"
   ]
  },
  {
   "cell_type": "code",
   "execution_count": 16,
   "id": "8c4cea39-5b7b-4f65-82d5-ea0015e86f02",
   "metadata": {},
   "outputs": [
    {
     "name": "stdout",
     "output_type": "stream",
     "text": [
      "09:36:57.451 [ForkJoinPool-1-worker-3] WARN org.terrier.structures.indexing.Indexer - Adding an empty document to the index (gakkai-j-0000119075) - further warnings are suppressed\n",
      "09:50:47.286 [ForkJoinPool-1-worker-3] WARN org.terrier.structures.indexing.Indexer - Indexed 1 empty documents\n",
      "CPU times: user 20min 5s, sys: 17.7 s, total: 20min 23s\n",
      "Wall time: 15min 19s\n"
     ]
    }
   ],
   "source": [
    "%%time\n",
    "indexref = indexer.index(train_doc_generate())"
   ]
  },
  {
   "cell_type": "code",
   "execution_count": 17,
   "id": "55b33e38-8c2d-4cbf-ba14-1d6483d222a5",
   "metadata": {},
   "outputs": [
    {
     "name": "stdout",
     "output_type": "stream",
     "text": [
      "data.direct.bf\t\t   data.lexicon.fsomaphash  data.meta.zdata\n",
      "data.document.fsarrayfile  data.lexicon.fsomapid    data.properties\n",
      "data.inverted.bf\t   data.meta-0.fsomapfile\n",
      "data.lexicon.fsomapfile    data.meta.idx\n"
     ]
    }
   ],
   "source": [
    "!ls $INDEX"
   ]
  },
  {
   "cell_type": "markdown",
   "id": "9df08bdb-e2f7-42ed-b1d1-55946326a3ab",
   "metadata": {},
   "source": [
    "### Topics"
   ]
  },
  {
   "cell_type": "code",
   "execution_count": 18,
   "id": "b64ac8b0-bd95-4f6b-bb73-2da355a6a5df",
   "metadata": {},
   "outputs": [],
   "source": [
    "def tokenize_topics():\n",
    "    import re\n",
    "    code = re.compile('[!\"#$%&\\'\\\\\\\\()*+,-./:;<=>?@[\\\\]^_`{|}~「」〔〕“”〈〉『』【】＆＊・（）＄＃＠。、？！｀＋￥％]')\n",
    "    queries = dataset_pt.get_topics(tokenise_query=False)\n",
    "    for idx, row in queries.iterrows():\n",
    "        queries.iloc[idx, 1] = code.sub('', tokenize_text(row.query))\n",
    "    return queries"
   ]
  },
  {
   "cell_type": "code",
   "execution_count": null,
   "id": "38f476d1-32b7-4764-8ad4-ef8260181cff",
   "metadata": {
    "tags": []
   },
   "outputs": [],
   "source": [
    "tokenize_topics()"
   ]
  },
  {
   "cell_type": "markdown",
   "id": "29cc13bf-ba26-4450-8105-739caced4991",
   "metadata": {},
   "source": [
    "### Retrieval\n",
    "\n",
    "- The performance value (e.g., nDCG) is expected to be 0.0.\n",
    "- You can use the generated run files for submission."
   ]
  },
  {
   "cell_type": "code",
   "execution_count": 20,
   "id": "a4c404fb-f369-4118-ae91-08bdd8fd9650",
   "metadata": {},
   "outputs": [],
   "source": [
    "# Load existing index files\n",
    "indexref = pt.IndexFactory.of(os.getenv('INDEX'))"
   ]
  },
  {
   "cell_type": "code",
   "execution_count": 21,
   "id": "0daa5477-b7be-42e5-bc8f-af29811a9d9b",
   "metadata": {},
   "outputs": [],
   "source": [
    "!mkdir -p $RUN"
   ]
  },
  {
   "cell_type": "code",
   "execution_count": 22,
   "id": "805a6cb8-2993-4ae8-b4e6-192710a115e2",
   "metadata": {},
   "outputs": [],
   "source": [
    "bm25 = pt.BatchRetrieve(indexref, wmodel=\"BM25\")"
   ]
  },
  {
   "cell_type": "code",
   "execution_count": 23,
   "id": "9f12d2ba-2c35-42fe-9959-33e82789d2c0",
   "metadata": {},
   "outputs": [],
   "source": [
    "# dummy qrels\n",
    "import pandas as pd\n",
    "dummy_qrels = pd.DataFrame(dataset_pt.get_topics(), columns=['qid'])\n",
    "dummy_qrels['docno'] = 'docno'\n",
    "dummy_qrels['label'] = 0"
   ]
  },
  {
   "cell_type": "code",
   "execution_count": 24,
   "id": "a8695de6-e2cf-4a8a-b05e-a3c4f09e097a",
   "metadata": {},
   "outputs": [
    {
     "name": "stdout",
     "output_type": "stream",
     "text": [
      "CPU times: user 9.83 s, sys: 160 ms, total: 9.99 s\n",
      "Wall time: 6.15 s\n"
     ]
    },
    {
     "data": {
      "text/html": [
       "<div>\n",
       "<style scoped>\n",
       "    .dataframe tbody tr th:only-of-type {\n",
       "        vertical-align: middle;\n",
       "    }\n",
       "\n",
       "    .dataframe tbody tr th {\n",
       "        vertical-align: top;\n",
       "    }\n",
       "\n",
       "    .dataframe thead th {\n",
       "        text-align: right;\n",
       "    }\n",
       "</style>\n",
       "<table border=\"1\" class=\"dataframe\">\n",
       "  <thead>\n",
       "    <tr style=\"text-align: right;\">\n",
       "      <th></th>\n",
       "      <th>name</th>\n",
       "      <th>nDCG</th>\n",
       "    </tr>\n",
       "  </thead>\n",
       "  <tbody>\n",
       "    <tr>\n",
       "      <th>0</th>\n",
       "      <td>MyRun-BM25</td>\n",
       "      <td>0.0</td>\n",
       "    </tr>\n",
       "  </tbody>\n",
       "</table>\n",
       "</div>"
      ],
      "text/plain": [
       "         name  nDCG\n",
       "0  MyRun-BM25   0.0"
      ]
     },
     "execution_count": 24,
     "metadata": {},
     "output_type": "execute_result"
    }
   ],
   "source": [
    "%%time\n",
    "from pyterrier.measures import *\n",
    "pt.Experiment(\n",
    "    [bm25],\n",
    "    tokenize_topics(),\n",
    "    dummy_qrels,\n",
    "    eval_metrics=[nDCG],\n",
    "    names = [\"MyRun-BM25\"],\n",
    "    save_dir = os.getenv('RUN'),\n",
    "    save_mode = \"overwrite\"\n",
    ")"
   ]
  },
  {
   "cell_type": "code",
   "execution_count": 25,
   "id": "9718c59a-0c32-40b0-b2a1-883ac5bb8a65",
   "metadata": {},
   "outputs": [
    {
     "name": "stdout",
     "output_type": "stream",
     "text": [
      "0101 Q0 kaken-j-0911436000 0 21.864852856182523 pyterrier\n",
      "0101 Q0 kaken-j-0921440800 1 21.733548675216895 pyterrier\n",
      "0101 Q0 kaken-j-0960142800 2 21.699355803624673 pyterrier\n",
      "0101 Q0 kaken-j-0975101400 3 21.6598678406465 pyterrier\n",
      "0101 Q0 kaken-j-0934033100 4 21.65174296819228 pyterrier\n",
      "0101 Q0 kaken-j-0912100600 5 21.59438980838825 pyterrier\n",
      "0101 Q0 kaken-j-0882391600 6 21.511995277698023 pyterrier\n",
      "0101 Q0 kaken-j-0883102100 7 21.460978250332282 pyterrier\n",
      "0101 Q0 kaken-j-0937129200 8 21.450990717308382 pyterrier\n",
      "0101 Q0 kaken-j-0941469900 9 21.42146237447012 pyterrier\n"
     ]
    }
   ],
   "source": [
    "!gunzip -c $RUN/MyRun-BM25.res.gz | head"
   ]
  }
 ],
 "metadata": {
  "environment": {
   "kernel": "python3",
   "name": "common-cpu.m102",
   "type": "gcloud",
   "uri": "gcr.io/deeplearning-platform-release/base-cpu:m102"
  },
  "kernelspec": {
   "display_name": "Python 3",
   "language": "python",
   "name": "python3"
  },
  "language_info": {
   "codemirror_mode": {
    "name": "ipython",
    "version": 3
   },
   "file_extension": ".py",
   "mimetype": "text/x-python",
   "name": "python",
   "nbconvert_exporter": "python",
   "pygments_lexer": "ipython3",
   "version": "3.7.12"
  }
 },
 "nbformat": 4,
 "nbformat_minor": 5
}
