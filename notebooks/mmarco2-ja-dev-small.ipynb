{
 "cells": [
  {
   "cell_type": "markdown",
   "id": "089f1da7-c7da-409c-ac34-c9e4b83e641e",
   "metadata": {},
   "source": [
    "# mMARCO Passage Japanese dev/small set\n",
    "\n",
    "This notebook shows how to access the [Japanese translation](https://arxiv.org/abs/2108.13897) of [MS Marco Passage Dataset](https://arxiv.org/abs/1611.09268) using [ir_datasets](https://github.com/allenai/ir_datasets/)."
   ]
  },
  {
   "cell_type": "markdown",
   "id": "17bfd4f9-905d-4ed9-93ad-0ac34d1819e9",
   "metadata": {},
   "source": [
    "## Dataset\n",
    "\n",
    "We use `dev/small` subset as an example."
   ]
  },
  {
   "cell_type": "code",
   "execution_count": 1,
   "id": "703fa07a-aeff-4221-a6ea-fb04b2290a1e",
   "metadata": {},
   "outputs": [],
   "source": [
    "import sys\n",
    "!{sys.executable} -m pip install -q ir_datasets"
   ]
  },
  {
   "cell_type": "code",
   "execution_count": 2,
   "id": "864c0eb2-88a3-4a38-a7f5-55044dc9e01d",
   "metadata": {},
   "outputs": [],
   "source": [
    "import ir_datasets\n",
    "dataset = ir_datasets.load(\"mmarco/v2/ja/dev/small\")"
   ]
  },
  {
   "cell_type": "markdown",
   "id": "f5f33251-8881-4d54-942e-25ec621d7387",
   "metadata": {},
   "source": [
    "## docstore"
   ]
  },
  {
   "cell_type": "code",
   "execution_count": 3,
   "id": "c56e49bf-a3d5-4bb5-969c-58089d72e0b5",
   "metadata": {
    "collapsed": true,
    "jupyter": {
     "outputs_hidden": true
    },
    "tags": []
   },
   "outputs": [
    {
     "name": "stderr",
     "output_type": "stream",
     "text": [
      "[INFO] [starting] building docstore\n",
      "[INFO] If you have a local copy of https://huggingface.co/datasets/unicamp-dl/mmarco/resolve/main/data/google/collections/japanese_collection.tsv, you can symlink it here to avoid downloading it again: /home/jupyter/.ir_datasets/downloads/85614bd4dac3aa221c0b657d5cc71695\n",
      "[INFO] [starting] https://huggingface.co/datasets/unicamp-dl/mmarco/resolve/main/data/google/collections/japanese_collection.tsv\n",
      "docs_iter:   0%|                                   | 0/8841823 [00:01<?, ?doc/s]\n",
      "https://huggingface.co/datasets/unicamp-dl/mmarco/resolve/main/data/google/collections/japanese_collection.tsv: 0.0%| 0.00/3.92G [00:00<?, ?B/s]\u001b[A\n",
      "https://huggingface.co/datasets/unicamp-dl/mmarco/resolve/main/data/google/collections/japanese_collection.tsv: 0.0%| 24.6k/3.92G [00:00<7:15:23, 150kB/s]\u001b[A\n",
      "...\n",
      "https://huggingface.co/datasets/unicamp-dl/mmarco/resolve/main/data/google/collections/japanese_collection.tsv: 99.5%| 3.91G/3.92G [02:52<00:00, 22.6MB/s]\u001b[A\n",
      "                                                                                ctions/japanese_collection.tsv: 99.8%| 3.92G/3.92G [02:53<00:00, 22.6MB/s]\u001b[A\n",
      "\u001b[A                                                                                                                                                       [INFO] [finished] https://huggingface.co/datasets/unicamp-dl/mmarco/resolve/main/data/google/collections/japanese_collection.tsv: [02:53] [3.92GB] [22.6MB/s]\n",
      "docs_iter:   0%|                                   | 0/8841823 [02:55<?, ?doc/s]\n",
      "https://huggingface.co/datasets/unicamp-dl/mmarco/resolve/main/data/google/collections/japanese_collection.tsv: [02:53] [3.92GB] [22.6MB/s]\u001b[A\n",
      "docs_iter: 100%|██████████████████| 8841823/8841823 [05:37<00:00, 26225.13doc/s]                                                           \u001b[A\n",
      "[INFO] [finished] docs_iter: [05:37] [8841823doc] [26225.06doc/s]\n",
      "[INFO] [finished] building docstore [05:37]\n"
     ]
    },
    {
     "name": "stdout",
     "output_type": "stream",
     "text": [
      "CPU times: user 3min, sys: 21.4 s, total: 3min 22s\n",
      "Wall time: 5min 45s\n"
     ]
    },
    {
     "data": {
      "text/plain": [
       "'ジョン・メイナード・ケインズ、第1男爵ケインズ、CB、FBA（/Ãƒâ€¹Ã‚Ë†keÃƒâ€°Ã‚Âªnz / KAYNZ; 1883年6月5日ÃƒÂ¢Ã‚â‚¬Ã‚â€œ1946年4月21日）は、そのアイデアが現代のマクロ経済学の理論と実践、そして政府の経済政策を根本的に変えた英国の経済学者。'"
      ]
     },
     "execution_count": 3,
     "metadata": {},
     "output_type": "execute_result"
    }
   ],
   "source": [
    "%%time\n",
    "docstore = dataset.docs_store()\n",
    "docstore.get('243').text"
   ]
  },
  {
   "cell_type": "markdown",
   "id": "c4485621-5ce3-4b5a-b3a2-a63e9f038c05",
   "metadata": {},
   "source": [
    "## docs_iter"
   ]
  },
  {
   "cell_type": "code",
   "execution_count": 7,
   "id": "ae73dfdd-c2b0-4d9e-96d3-cf0c016f7495",
   "metadata": {},
   "outputs": [
    {
     "name": "stdout",
     "output_type": "stream",
     "text": [
      "0\tマンハッタン計画の成功には、科学的知性と同様に、科学的精神の中でのコミュニケーションの存在も同様に重要でした。原子研究者とエンジニアの印象的な業績にぶら下がっている唯一の雲は、彼らの成功が本当に意味したことです。何十万もの罪のない命が失われました。\n",
      "1\tマンハッタン計画とその原子爆弾は、第二次世界大戦を終わらせるのに役立ちました。原子力の平和利用の遺産は、歴史と科学に影響を与え続けています。\n",
      "2\tマンハッタン計画に関するエッセイ-マンハッタン計画マンハッタン計画は、原子爆弾を可能にするかどうかを確認することでした。このプロジェクトの成功は、世界を永遠に変え、この強力な何かが人工的になり得ることを知らせます。\n",
      "3\tマンハッタン計画は、第二次世界大戦中に最初の原子爆弾を開発するために実施されたプロジェクトの名前でした。具体的には、レズリーR.グローブ将軍の管理下にある、米陸軍工兵隊の管理下にある194×2〜1946年のプロジェクトの期間を指します。\n",
      "4\t各ボリュームのバージョンと補完的なWebサイト。最初のウェブサイト「マンハッタン計画：インタラクティブな歴史」は、Office of History and Heritage Resourcesのウェブサイトhttp：//www.cfoで入手できます。 doe.gov/me70/history。歴史遺産資源局と国家核安全保障局\n"
     ]
    }
   ],
   "source": [
    "for doc in dataset.docs_iter()[0:5]:\n",
    "    print(f'{doc.doc_id}\\t{doc.text}')"
   ]
  },
  {
   "cell_type": "markdown",
   "id": "6a59b4c3-3718-48a7-bd29-62567fa9de66",
   "metadata": {},
   "source": [
    "## queries_iter"
   ]
  },
  {
   "cell_type": "code",
   "execution_count": 8,
   "id": "4d60a1a6-67f7-4270-aca5-e756dcd097ca",
   "metadata": {},
   "outputs": [
    {
     "name": "stderr",
     "output_type": "stream",
     "text": [
      "[INFO] [starting] https://huggingface.co/datasets/unicamp-dl/mmarco/resolve/main/data/qrels.dev.small.tsv\n",
      "[INFO] [finished] https://huggingface.co/datasets/unicamp-dl/mmarco/resolve/main/data/qrels.dev.small.tsv: [00:00] [143kB] [263kB/s]\n",
      "[INFO] If you have a local copy of https://huggingface.co/datasets/unicamp-dl/mmarco/resolve/main/data/google/queries/dev/japanese_queries.dev.tsv, you can symlink it here to avoid downloading it again: /home/jupyter/.ir_datasets/downloads/23c86ba93c63891a95382d8e8198199f\n",
      "[INFO] [starting] https://huggingface.co/datasets/unicamp-dl/mmarco/resolve/main/data/google/queries/dev/japanese_queries.dev.tsv\n",
      "[INFO] [finished] https://huggingface.co/datasets/unicamp-dl/mmarco/resolve/main/data/google/queries/dev/japanese_queries.dev.tsv: [00:01] [5.82MB] [4.23MB/s]\n",
      "                                                                                                                                            \r"
     ]
    },
    {
     "data": {
      "text/html": [
       "<div>\n",
       "<style scoped>\n",
       "    .dataframe tbody tr th:only-of-type {\n",
       "        vertical-align: middle;\n",
       "    }\n",
       "\n",
       "    .dataframe tbody tr th {\n",
       "        vertical-align: top;\n",
       "    }\n",
       "\n",
       "    .dataframe thead th {\n",
       "        text-align: right;\n",
       "    }\n",
       "</style>\n",
       "<table border=\"1\" class=\"dataframe\">\n",
       "  <thead>\n",
       "    <tr style=\"text-align: right;\">\n",
       "      <th></th>\n",
       "      <th>query_id</th>\n",
       "      <th>text</th>\n",
       "    </tr>\n",
       "  </thead>\n",
       "  <tbody>\n",
       "    <tr>\n",
       "      <th>0</th>\n",
       "      <td>2</td>\n",
       "      <td>アンドロゲン受容体の定義</td>\n",
       "    </tr>\n",
       "    <tr>\n",
       "      <th>1</th>\n",
       "      <td>1215</td>\n",
       "      <td>カナダの3つのレベルの政府とその責任</td>\n",
       "    </tr>\n",
       "    <tr>\n",
       "      <th>2</th>\n",
       "      <td>1288</td>\n",
       "      <td>60の3/5</td>\n",
       "    </tr>\n",
       "    <tr>\n",
       "      <th>3</th>\n",
       "      <td>1576</td>\n",
       "      <td>60x40スラブコスト</td>\n",
       "    </tr>\n",
       "    <tr>\n",
       "      <th>4</th>\n",
       "      <td>2235</td>\n",
       "      <td>ベテル大学は何年に設立されました</td>\n",
       "    </tr>\n",
       "    <tr>\n",
       "      <th>...</th>\n",
       "      <td>...</td>\n",
       "      <td>...</td>\n",
       "    </tr>\n",
       "    <tr>\n",
       "      <th>6975</th>\n",
       "      <td>1102335</td>\n",
       "      <td>なぜ人々は車を買うのですか</td>\n",
       "    </tr>\n",
       "    <tr>\n",
       "      <th>6976</th>\n",
       "      <td>1102351</td>\n",
       "      <td>なぜジェファーソンとスタントンはこれらの同様の抜粋を彼らの文書に含めるのですか？</td>\n",
       "    </tr>\n",
       "    <tr>\n",
       "      <th>6977</th>\n",
       "      <td>1102390</td>\n",
       "      <td>なぜ子供たちは攻撃的になるのですか</td>\n",
       "    </tr>\n",
       "    <tr>\n",
       "      <th>6978</th>\n",
       "      <td>1102393</td>\n",
       "      <td>なぜ聖パトリックの日を祝うのですか</td>\n",
       "    </tr>\n",
       "    <tr>\n",
       "      <th>6979</th>\n",
       "      <td>1102400</td>\n",
       "      <td>なぜクマは冬眠するのですか</td>\n",
       "    </tr>\n",
       "  </tbody>\n",
       "</table>\n",
       "<p>6980 rows × 2 columns</p>\n",
       "</div>"
      ],
      "text/plain": [
       "     query_id                                      text\n",
       "0           2                              アンドロゲン受容体の定義\n",
       "1        1215                        カナダの3つのレベルの政府とその責任\n",
       "2        1288                                    60の3/5\n",
       "3        1576                               60x40スラブコスト\n",
       "4        2235                          ベテル大学は何年に設立されました\n",
       "...       ...                                       ...\n",
       "6975  1102335                             なぜ人々は車を買うのですか\n",
       "6976  1102351  なぜジェファーソンとスタントンはこれらの同様の抜粋を彼らの文書に含めるのですか？\n",
       "6977  1102390                         なぜ子供たちは攻撃的になるのですか\n",
       "6978  1102393                         なぜ聖パトリックの日を祝うのですか\n",
       "6979  1102400                             なぜクマは冬眠するのですか\n",
       "\n",
       "[6980 rows x 2 columns]"
      ]
     },
     "execution_count": 8,
     "metadata": {},
     "output_type": "execute_result"
    }
   ],
   "source": [
    "import pandas as pd\n",
    "pd.DataFrame(dataset.queries_iter())"
   ]
  },
  {
   "cell_type": "markdown",
   "id": "a3438094-d319-4915-8708-a536e081e21d",
   "metadata": {},
   "source": [
    "## qrels_iter"
   ]
  },
  {
   "cell_type": "code",
   "execution_count": 9,
   "id": "a18905c6-050c-44f6-8170-d2bc925e02a9",
   "metadata": {},
   "outputs": [
    {
     "data": {
      "text/html": [
       "<div>\n",
       "<style scoped>\n",
       "    .dataframe tbody tr th:only-of-type {\n",
       "        vertical-align: middle;\n",
       "    }\n",
       "\n",
       "    .dataframe tbody tr th {\n",
       "        vertical-align: top;\n",
       "    }\n",
       "\n",
       "    .dataframe thead th {\n",
       "        text-align: right;\n",
       "    }\n",
       "</style>\n",
       "<table border=\"1\" class=\"dataframe\">\n",
       "  <thead>\n",
       "    <tr style=\"text-align: right;\">\n",
       "      <th></th>\n",
       "      <th>query_id</th>\n",
       "      <th>doc_id</th>\n",
       "      <th>relevance</th>\n",
       "      <th>iteration</th>\n",
       "    </tr>\n",
       "  </thead>\n",
       "  <tbody>\n",
       "    <tr>\n",
       "      <th>0</th>\n",
       "      <td>300674</td>\n",
       "      <td>7067032</td>\n",
       "      <td>1</td>\n",
       "      <td>0</td>\n",
       "    </tr>\n",
       "    <tr>\n",
       "      <th>1</th>\n",
       "      <td>125705</td>\n",
       "      <td>7067056</td>\n",
       "      <td>1</td>\n",
       "      <td>0</td>\n",
       "    </tr>\n",
       "    <tr>\n",
       "      <th>2</th>\n",
       "      <td>94798</td>\n",
       "      <td>7067181</td>\n",
       "      <td>1</td>\n",
       "      <td>0</td>\n",
       "    </tr>\n",
       "    <tr>\n",
       "      <th>3</th>\n",
       "      <td>9083</td>\n",
       "      <td>7067274</td>\n",
       "      <td>1</td>\n",
       "      <td>0</td>\n",
       "    </tr>\n",
       "    <tr>\n",
       "      <th>4</th>\n",
       "      <td>174249</td>\n",
       "      <td>7067348</td>\n",
       "      <td>1</td>\n",
       "      <td>0</td>\n",
       "    </tr>\n",
       "    <tr>\n",
       "      <th>...</th>\n",
       "      <td>...</td>\n",
       "      <td>...</td>\n",
       "      <td>...</td>\n",
       "      <td>...</td>\n",
       "    </tr>\n",
       "    <tr>\n",
       "      <th>7432</th>\n",
       "      <td>147073</td>\n",
       "      <td>8008770</td>\n",
       "      <td>1</td>\n",
       "      <td>0</td>\n",
       "    </tr>\n",
       "    <tr>\n",
       "      <th>7433</th>\n",
       "      <td>243761</td>\n",
       "      <td>8008787</td>\n",
       "      <td>1</td>\n",
       "      <td>0</td>\n",
       "    </tr>\n",
       "    <tr>\n",
       "      <th>7434</th>\n",
       "      <td>162662</td>\n",
       "      <td>8008977</td>\n",
       "      <td>1</td>\n",
       "      <td>0</td>\n",
       "    </tr>\n",
       "    <tr>\n",
       "      <th>7435</th>\n",
       "      <td>247194</td>\n",
       "      <td>8009319</td>\n",
       "      <td>1</td>\n",
       "      <td>0</td>\n",
       "    </tr>\n",
       "    <tr>\n",
       "      <th>7436</th>\n",
       "      <td>195199</td>\n",
       "      <td>8009377</td>\n",
       "      <td>1</td>\n",
       "      <td>0</td>\n",
       "    </tr>\n",
       "  </tbody>\n",
       "</table>\n",
       "<p>7437 rows × 4 columns</p>\n",
       "</div>"
      ],
      "text/plain": [
       "     query_id   doc_id  relevance iteration\n",
       "0      300674  7067032          1         0\n",
       "1      125705  7067056          1         0\n",
       "2       94798  7067181          1         0\n",
       "3        9083  7067274          1         0\n",
       "4      174249  7067348          1         0\n",
       "...       ...      ...        ...       ...\n",
       "7432   147073  8008770          1         0\n",
       "7433   243761  8008787          1         0\n",
       "7434   162662  8008977          1         0\n",
       "7435   247194  8009319          1         0\n",
       "7436   195199  8009377          1         0\n",
       "\n",
       "[7437 rows x 4 columns]"
      ]
     },
     "execution_count": 9,
     "metadata": {},
     "output_type": "execute_result"
    }
   ],
   "source": [
    "pd.DataFrame(dataset.qrels_iter())"
   ]
  },
  {
   "cell_type": "markdown",
   "id": "28f63808-eb3e-4f76-8057-590ba468774f",
   "metadata": {},
   "source": [
    "## scoreddocs_iter (for reranking)"
   ]
  },
  {
   "cell_type": "code",
   "execution_count": 10,
   "id": "50176951-49e4-41cd-9049-3b11e23fae0a",
   "metadata": {},
   "outputs": [
    {
     "name": "stderr",
     "output_type": "stream",
     "text": [
      "[INFO] If you have a local copy of https://huggingface.co/datasets/unicamp-dl/mmarco/resolve/main/data/google/runs/run.bm25_japanese-msmarco.txt, you can symlink it here to avoid downloading it again: /home/jupyter/.ir_datasets/downloads/a3908dd2cec7c1d66008eab3b455b4d6\n",
      "[INFO] [starting] https://huggingface.co/datasets/unicamp-dl/mmarco/resolve/main/data/google/runs/run.bm25_japanese-msmarco.txt\n",
      "[INFO] [finished] https://huggingface.co/datasets/unicamp-dl/mmarco/resolve/main/data/google/runs/run.bm25_japanese-msmarco.txt: [00:19] [130MB] [6.76MB/s]\n",
      "                                                                                                                                         \r"
     ]
    },
    {
     "data": {
      "text/html": [
       "<div>\n",
       "<style scoped>\n",
       "    .dataframe tbody tr th:only-of-type {\n",
       "        vertical-align: middle;\n",
       "    }\n",
       "\n",
       "    .dataframe tbody tr th {\n",
       "        vertical-align: top;\n",
       "    }\n",
       "\n",
       "    .dataframe thead th {\n",
       "        text-align: right;\n",
       "    }\n",
       "</style>\n",
       "<table border=\"1\" class=\"dataframe\">\n",
       "  <thead>\n",
       "    <tr style=\"text-align: right;\">\n",
       "      <th></th>\n",
       "      <th>query_id</th>\n",
       "      <th>doc_id</th>\n",
       "      <th>score</th>\n",
       "    </tr>\n",
       "  </thead>\n",
       "  <tbody>\n",
       "    <tr>\n",
       "      <th>0</th>\n",
       "      <td>2</td>\n",
       "      <td>3214931</td>\n",
       "      <td>-1.0</td>\n",
       "    </tr>\n",
       "    <tr>\n",
       "      <th>1</th>\n",
       "      <td>2</td>\n",
       "      <td>1001873</td>\n",
       "      <td>-2.0</td>\n",
       "    </tr>\n",
       "    <tr>\n",
       "      <th>2</th>\n",
       "      <td>2</td>\n",
       "      <td>1782337</td>\n",
       "      <td>-3.0</td>\n",
       "    </tr>\n",
       "    <tr>\n",
       "      <th>3</th>\n",
       "      <td>2</td>\n",
       "      <td>6285817</td>\n",
       "      <td>-4.0</td>\n",
       "    </tr>\n",
       "    <tr>\n",
       "      <th>4</th>\n",
       "      <td>2</td>\n",
       "      <td>7496506</td>\n",
       "      <td>-5.0</td>\n",
       "    </tr>\n",
       "    <tr>\n",
       "      <th>...</th>\n",
       "      <td>...</td>\n",
       "      <td>...</td>\n",
       "      <td>...</td>\n",
       "    </tr>\n",
       "    <tr>\n",
       "      <th>6817441</th>\n",
       "      <td>1102400</td>\n",
       "      <td>8217985</td>\n",
       "      <td>-996.0</td>\n",
       "    </tr>\n",
       "    <tr>\n",
       "      <th>6817442</th>\n",
       "      <td>1102400</td>\n",
       "      <td>8767065</td>\n",
       "      <td>-997.0</td>\n",
       "    </tr>\n",
       "    <tr>\n",
       "      <th>6817443</th>\n",
       "      <td>1102400</td>\n",
       "      <td>1374339</td>\n",
       "      <td>-998.0</td>\n",
       "    </tr>\n",
       "    <tr>\n",
       "      <th>6817444</th>\n",
       "      <td>1102400</td>\n",
       "      <td>1409878</td>\n",
       "      <td>-999.0</td>\n",
       "    </tr>\n",
       "    <tr>\n",
       "      <th>6817445</th>\n",
       "      <td>1102400</td>\n",
       "      <td>1776192</td>\n",
       "      <td>-1000.0</td>\n",
       "    </tr>\n",
       "  </tbody>\n",
       "</table>\n",
       "<p>6817446 rows × 3 columns</p>\n",
       "</div>"
      ],
      "text/plain": [
       "        query_id   doc_id   score\n",
       "0              2  3214931    -1.0\n",
       "1              2  1001873    -2.0\n",
       "2              2  1782337    -3.0\n",
       "3              2  6285817    -4.0\n",
       "4              2  7496506    -5.0\n",
       "...          ...      ...     ...\n",
       "6817441  1102400  8217985  -996.0\n",
       "6817442  1102400  8767065  -997.0\n",
       "6817443  1102400  1374339  -998.0\n",
       "6817444  1102400  1409878  -999.0\n",
       "6817445  1102400  1776192 -1000.0\n",
       "\n",
       "[6817446 rows x 3 columns]"
      ]
     },
     "execution_count": 10,
     "metadata": {},
     "output_type": "execute_result"
    }
   ],
   "source": [
    "pd.DataFrame(dataset.scoreddocs_iter())"
   ]
  }
 ],
 "metadata": {
  "environment": {
   "kernel": "python3",
   "name": "common-cpu.m102",
   "type": "gcloud",
   "uri": "gcr.io/deeplearning-platform-release/base-cpu:m102"
  },
  "kernelspec": {
   "display_name": "Python 3",
   "language": "python",
   "name": "python3"
  },
  "language_info": {
   "codemirror_mode": {
    "name": "ipython",
    "version": 3
   },
   "file_extension": ".py",
   "mimetype": "text/x-python",
   "name": "python",
   "nbconvert_exporter": "python",
   "pygments_lexer": "ipython3",
   "version": "3.7.12"
  }
 },
 "nbformat": 4,
 "nbformat_minor": 5
}
