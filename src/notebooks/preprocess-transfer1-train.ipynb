{
 "cells": [
  {
   "cell_type": "markdown",
   "id": "d1931b00-c8c4-4d9c-822c-205bb86d9a65",
   "metadata": {},
   "source": [
    "# Preprocessing of NTCIR-17 Transfer Task Train Dataset"
   ]
  },
  {
   "cell_type": "markdown",
   "id": "9deec37a-3388-4195-8d35-2d4c0a4d21de",
   "metadata": {
    "tags": []
   },
   "source": [
    "## About the dataset\n",
    "\n",
    "NTCIR-17 Transfer Task uses the following test collection as the training dataset.\n",
    "\n",
    "### Overview of NTCIR-1 AdHoc Test Collection\n",
    "\n",
    "- Reference\n",
    "> Kando, et al. (1999). [Overview of IR Tasks at the First NTCIR Workshop](http://research.nii.ac.jp/ntcir/workshop/OnlineProceedings/IR-overview.pdf). In: Proceedings of the First NTCIR Workshop on Research in Japanese Text Retrieval and Term Recognition, August 30 - September 1, 1999, pp.11-44.\n",
    "- How to obtain the data: [Research Purpose Use of NTCIR Test Collections or Data Archive/ User Agreement](http://research.nii.ac.jp/ntcir/permission/perm-en.html#ntcir-1)\n",
    "> The IR Test collection includes (1) Document data (Author abstracts of the Academic Conference Paper Database (1988-1997) = author abstracts of the paper presented at the academic conference hosted by either of 65 academic societies in Japan. about 330,000 documents; more than half are English-Japanese paired,) (2) 83 Search topics (Japanese,) and (3) Relevance Judgements. The collection can be used for retrieval experiments of Japanese text retrieval and CLIR of search Either of English documents or Japanese-English documents by Japanese topics. The Term Extraction Test collection includes tagged corpus using the 2000 Japanese documents selected from the above IR test collection. The whole test collection is available for research purpose use from NII."
   ]
  },
  {
   "cell_type": "markdown",
   "id": "bf26c1c8-1e00-44d7-8e82-de1815b8600c",
   "metadata": {},
   "source": [
    "## Data path\n",
    "- Get a copy of the test collection based on the above instruction.\n",
    "- We assume that the downloaded file has been uncompressed to the following path."
   ]
  },
  {
   "cell_type": "code",
   "execution_count": 1,
   "id": "a3fde54b-cab1-4a39-ab54-e0706954dfbd",
   "metadata": {},
   "outputs": [],
   "source": [
    "import os\n",
    "os.environ['DATA'] = '../testcollections/ntcir/NTCIR-1'"
   ]
  },
  {
   "cell_type": "code",
   "execution_count": 2,
   "id": "ebfbfc3d-b414-4cc6-9e97-f1819ec33ebc",
   "metadata": {},
   "outputs": [
    {
     "name": "stdout",
     "output_type": "stream",
     "text": [
      "ADHOC.TGZ\t\t MANUAL-E.PDF\t\t      README-J.PDF\n",
      "AGREEM-E.PDF\t\t MANUAL-J.PDF\t\t      README-J.TXT\n",
      "AGREEM-J.PDF\t\t MLIR.TGZ\t\t      TAGREE-E.PDF\n",
      "CLIR.TGZ\t\t README-E-REVISED-130709.pdf  TAGREE-J.PDF\n",
      "CORRECTION-E-130709.pdf  README-E.TXT\t\t      TMREC.TGZ\n",
      "CORRECTION-J-130705.pdf  README-J-REVISED-130705.pdf  TOPICS.TGZ\n"
     ]
    }
   ],
   "source": [
    "!ls $DATA"
   ]
  },
  {
   "cell_type": "markdown",
   "id": "6ea1ab8f-a0be-49dc-904a-5f1a060b5403",
   "metadata": {},
   "source": [
    "## Preprocessing\n",
    "\n",
    "### Corpus files"
   ]
  },
  {
   "cell_type": "code",
   "execution_count": 3,
   "id": "87988c62-2372-4baf-98a6-9a7782a05b3e",
   "metadata": {},
   "outputs": [
    {
     "name": "stdout",
     "output_type": "stream",
     "text": [
      "mlir/\n",
      "mlir/ntc1-j1\n",
      "mlir/rel1_ntc1-j1_0001-0030\n",
      "mlir/rel2_ntc1-j1_0001-0030\n",
      "mlir/rel1_ntc1-j1_0031-0083\n",
      "mlir/rel2_ntc1-j1_0031-0083\n"
     ]
    }
   ],
   "source": [
    "!tar xvfz $DATA/MLIR.TGZ -C $DATA/"
   ]
  },
  {
   "cell_type": "code",
   "execution_count": 4,
   "id": "f285ed86-eb99-4dde-b81e-6814cd4f2ff3",
   "metadata": {},
   "outputs": [],
   "source": [
    "!iconv -f EUC-JP -t UTF-8 -c $DATA/mlir/ntc1-j1 > $DATA/mlir/ntc1-j1.utf8"
   ]
  },
  {
   "cell_type": "code",
   "execution_count": 5,
   "id": "ae32c7e0-9b81-406d-8383-4b048c477540",
   "metadata": {},
   "outputs": [
    {
     "name": "stdout",
     "output_type": "stream",
     "text": [
      "332918\n"
     ]
    }
   ],
   "source": [
    "# Number of documents\n",
    "!grep \"^<ACCN\" $DATA/mlir/ntc1-j1.utf8 | wc -l"
   ]
  },
  {
   "cell_type": "code",
   "execution_count": 6,
   "id": "6aa8f958-57c2-49bc-ad1d-b47a0f3eccba",
   "metadata": {},
   "outputs": [],
   "source": [
    "import re\n",
    "def docs_jsonl(in_file):\n",
    "    out_file = in_file + '.jsonl'\n",
    "    with open(in_file, 'r') as f:\n",
    "        s = f.read()\n",
    "        s = re.sub('<ABST.P>|</ABST.P>', '', s)\n",
    "        s = re.sub(r'\\\\', r'\\\\\\\\', s)\n",
    "        s = re.sub('\"', '\\\\\"', s)\n",
    "\n",
    "        accn = re.findall('<ACCN.*?>(.*)</ACCN>', s)\n",
    "        titl = re.findall('<TITL.*?>(.*)</TITL>', s)\n",
    "        abst = re.findall('<ABST.*?>(.*)</ABST>', s)\n",
    "\n",
    "    with open(out_file, 'w') as f:\n",
    "        for i in range(len(accn)):\n",
    "            # text = title + abstract\n",
    "            f.write(f'{{ \"doc_id\": \"{accn[i]}\", \"text\": \"{titl[i]} {abst[i]}\" }}\\n')"
   ]
  },
  {
   "cell_type": "code",
   "execution_count": 7,
   "id": "35d4bae1-9ddf-44a7-9fe8-c6f9ccb8f8fe",
   "metadata": {},
   "outputs": [],
   "source": [
    "docs_jsonl(os.getenv('DATA') + '/mlir/ntc1-j1.utf8')"
   ]
  },
  {
   "cell_type": "code",
   "execution_count": 8,
   "id": "8c7dcc7f-4625-41d3-8f1e-74b4c0a24424",
   "metadata": {},
   "outputs": [
    {
     "name": "stdout",
     "output_type": "stream",
     "text": [
      "332918 ../testcollections/ntcir/NTCIR-1/mlir/ntc1-j1.utf8.jsonl\n"
     ]
    }
   ],
   "source": [
    "!wc -l $DATA/mlir/ntc1-j1.utf8.jsonl"
   ]
  },
  {
   "cell_type": "markdown",
   "id": "81262343-ca48-4196-997f-24e08f47fd5a",
   "metadata": {},
   "source": [
    "### Topic files"
   ]
  },
  {
   "cell_type": "code",
   "execution_count": 9,
   "id": "2f8b3153-83db-4119-8533-301f9b19cd5f",
   "metadata": {},
   "outputs": [
    {
     "name": "stdout",
     "output_type": "stream",
     "text": [
      "topics/\n",
      "topics/topic0001-0030\n",
      "topics/topic0031-0083\n"
     ]
    }
   ],
   "source": [
    "!tar xvfz $DATA/TOPICS.TGZ -C $DATA/"
   ]
  },
  {
   "cell_type": "code",
   "execution_count": 10,
   "id": "47fa4e4b-c144-4b68-8740-0547371e1a1f",
   "metadata": {},
   "outputs": [],
   "source": [
    "!iconv -f EUC-JP -t UTF-8 -c $DATA/topics/topic0001-0030 > $DATA/topics/topic0001-0030.utf8\n",
    "!iconv -f EUC-JP -t UTF-8 -c $DATA/topics/topic0031-0083 > $DATA/topics/topic0031-0083.utf8"
   ]
  },
  {
   "cell_type": "code",
   "execution_count": 11,
   "id": "b309f152-4b8b-42fd-95a0-a82cde1809ff",
   "metadata": {},
   "outputs": [],
   "source": [
    "import re\n",
    "def topics_jsonl(in_file):\n",
    "    out_file = in_file + '.jsonl'\n",
    "    with open(in_file, 'r') as f:\n",
    "        s = f.read()\n",
    "        qid = re.findall('<TOPIC q=([^>]+)>', s)\n",
    "        title = re.findall('<TITLE>\\n(.*)\\n<\\/TITLE>', s)\n",
    "        desc = re.findall('<DESCRIPTION>\\n(.*)\\n<\\/DESCRIPTION>', s)\n",
    "    with open(out_file, 'w') as f:\n",
    "        for i in range(len(qid)):\n",
    "            f.write(f'{{ \"query_id\": \"{qid[i]}\", \"text\": \"{title[i]}\", \"description\": \"{desc[i]}\" }}\\n')"
   ]
  },
  {
   "cell_type": "code",
   "execution_count": 12,
   "id": "b4658df8-96d0-4b58-b89a-9c8285bc44f9",
   "metadata": {},
   "outputs": [],
   "source": [
    "topics_jsonl(os.getenv('DATA') + '/topics/topic0001-0030.utf8')\n",
    "topics_jsonl(os.getenv('DATA') + '/topics/topic0031-0083.utf8')"
   ]
  },
  {
   "cell_type": "code",
   "execution_count": 13,
   "id": "ac371e25-d4e1-422c-b6d0-bfba501ec19c",
   "metadata": {},
   "outputs": [],
   "source": [
    "!cat $DATA/topics/topic0001-0030.utf8.jsonl $DATA/topics/topic0031-0083.utf8.jsonl > $DATA/topics/topic0001-0083.utf8.jsonl"
   ]
  },
  {
   "cell_type": "code",
   "execution_count": 14,
   "id": "684bec1e-911e-4efb-a27d-0a3b3e9dd55c",
   "metadata": {},
   "outputs": [
    {
     "name": "stdout",
     "output_type": "stream",
     "text": [
      "topic0001-0030\t\t   topic0001-0083.utf8.jsonl  topic0031-0083.utf8.jsonl\n",
      "topic0001-0030.utf8\t   topic0031-0083\n",
      "topic0001-0030.utf8.jsonl  topic0031-0083.utf8\n"
     ]
    }
   ],
   "source": [
    "!ls $DATA/topics"
   ]
  },
  {
   "cell_type": "markdown",
   "id": "69c78ef8-bea6-4d20-a300-a1c3df9a99f2",
   "metadata": {},
   "source": [
    "### Qrel files\n",
    "- This test collection provides graded relevance scores (A: Relevant, B: Partially Relevant, C: Not Relevant)\n",
    "- We convert them as follows.\n",
    "    - A: 2\n",
    "    - B: 1\n",
    "    - C: 0"
   ]
  },
  {
   "cell_type": "code",
   "execution_count": 15,
   "id": "91fb4c1e-8f6c-4616-876a-2d876d11435d",
   "metadata": {},
   "outputs": [],
   "source": [
    "!iconv -f EUC-JP -t UTF-8 -c $DATA/mlir/rel2_ntc1-j1_0001-0030 > $DATA/mlir/rel2_ntc1-j1_0001-0030.utf8\n",
    "!iconv -f EUC-JP -t UTF-8 -c $DATA/mlir/rel2_ntc1-j1_0031-0083 > $DATA/mlir/rel2_ntc1-j1_0031-0083.utf8"
   ]
  },
  {
   "cell_type": "code",
   "execution_count": 16,
   "id": "cbba2e8d-f935-4b29-aa46-aa1dddc38aa7",
   "metadata": {},
   "outputs": [],
   "source": [
    "def qrel_graded_tsv(in_file):\n",
    "    out_file = in_file + '.tsv'\n",
    "    with open(in_file, 'r') as f, open(out_file, 'w') as f2:\n",
    "        for line in f:\n",
    "            line = line.rstrip()\n",
    "            flds = line.split('\\t')\n",
    "            if flds[1] == 'A':\n",
    "                f2.write(f'{flds[0]}\\tQ0\\t{flds[2]}\\t2\\n')\n",
    "            if flds[1] == 'B':\n",
    "                f2.write(f'{flds[0]}\\tQ0\\t{flds[2]}\\t1\\n')\n",
    "            if flds[1] == 'C':\n",
    "                f2.write(f'{flds[0]}\\tQ0\\t{flds[2]}\\t0\\n')"
   ]
  },
  {
   "cell_type": "code",
   "execution_count": 17,
   "id": "60d96d74-be2a-4eb2-b35a-4fe7b7f8f490",
   "metadata": {},
   "outputs": [],
   "source": [
    "qrel_graded_tsv(os.getenv('DATA') + '/mlir/rel2_ntc1-j1_0001-0030.utf8')\n",
    "qrel_graded_tsv(os.getenv('DATA') + '/mlir/rel2_ntc1-j1_0031-0083.utf8')"
   ]
  },
  {
   "cell_type": "code",
   "execution_count": 18,
   "id": "4c6bbad5-0186-40e6-ab8f-007deaa06ae2",
   "metadata": {},
   "outputs": [],
   "source": [
    "!cat $DATA/mlir/rel2_ntc1-j1_0001-0030.utf8.tsv $DATA/mlir/rel2_ntc1-j1_0031-0083.utf8.tsv > $DATA/mlir/rel2_ntc1-j1_0001-0083.utf8.tsv"
   ]
  },
  {
   "cell_type": "code",
   "execution_count": 19,
   "id": "f370a199-8f7d-4826-8ea6-b9e2d399e980",
   "metadata": {},
   "outputs": [
    {
     "name": "stdout",
     "output_type": "stream",
     "text": [
      "ntc1-j1\t\t\trel2_ntc1-j1_0001-0030.utf8\n",
      "ntc1-j1.utf8\t\trel2_ntc1-j1_0001-0030.utf8.tsv\n",
      "ntc1-j1.utf8.jsonl\trel2_ntc1-j1_0001-0083.utf8.tsv\n",
      "rel1_ntc1-j1_0001-0030\trel2_ntc1-j1_0031-0083\n",
      "rel1_ntc1-j1_0031-0083\trel2_ntc1-j1_0031-0083.utf8\n",
      "rel2_ntc1-j1_0001-0030\trel2_ntc1-j1_0031-0083.utf8.tsv\n"
     ]
    }
   ],
   "source": [
    "!ls $DATA/mlir/"
   ]
  },
  {
   "cell_type": "markdown",
   "id": "e071588a-50f5-47e2-9bba-e968a793cedb",
   "metadata": {},
   "source": [
    "## Top 1000 data\n",
    "\n",
    "- NTCIR-17 Transfer Task Participant only (for Reranking subtask)\n",
    "- Download `top1000.train.tsv` into `../testcollections/ntcir/NTCIR-1/mlir` folder\n",
    "- Note that not all topics have 1000 docs."
   ]
  },
  {
   "cell_type": "code",
   "execution_count": 20,
   "id": "41c593db-508f-411b-a5e5-c4aff5f77776",
   "metadata": {},
   "outputs": [
    {
     "name": "stdout",
     "output_type": "stream",
     "text": [
      "ntc1-j1\t\t\t     rel2_ntc1-j1_0001-0030.utf8.tsv\n",
      "ntc1-j1.utf8\t\t     rel2_ntc1-j1_0001-0083.utf8.tsv\n",
      "ntc1-j1.utf8.jsonl\t     rel2_ntc1-j1_0031-0083\n",
      "rel1_ntc1-j1_0001-0030\t     rel2_ntc1-j1_0031-0083.utf8\n",
      "rel1_ntc1-j1_0031-0083\t     rel2_ntc1-j1_0031-0083.utf8.tsv\n",
      "rel2_ntc1-j1_0001-0030\t     top1000.train.tsv\n",
      "rel2_ntc1-j1_0001-0030.utf8\n"
     ]
    }
   ],
   "source": [
    "!ls $DATA/mlir"
   ]
  },
  {
   "cell_type": "markdown",
   "id": "aeeb04a7-afaa-4e51-893a-e3fe333d4d9f",
   "metadata": {},
   "source": [
    "## Register to ir_datasets module locally\n",
    "\n",
    "- Dataset name: `ntcir-transfer`\n",
    "- subset: `1/train`\n",
    "\n",
    "### Location of dataset files\n",
    "\n",
    "- `../datasets/ntcir-transfer.yaml`\n",
    "- `../datasets/ntcir_transfer.py`"
   ]
  },
  {
   "cell_type": "code",
   "execution_count": 21,
   "id": "3d10e2c1-3e64-4ab6-b726-c65c74b693bc",
   "metadata": {},
   "outputs": [],
   "source": [
    "# Remove old cache (if any)\n",
    "# !rm -rf ~/.ir_datasets/ntcir-transfer/1/train"
   ]
  },
  {
   "cell_type": "code",
   "execution_count": 22,
   "id": "072cd480-a664-4642-8530-8312a94f13b9",
   "metadata": {},
   "outputs": [],
   "source": [
    "import sys\n",
    "!{sys.executable} -m pip install -q ir_datasets pandas"
   ]
  },
  {
   "cell_type": "code",
   "execution_count": 23,
   "id": "a2370217-439a-4f5f-817f-aa49d6eefdac",
   "metadata": {},
   "outputs": [],
   "source": [
    "sys.path.append(os.path.join(os.path.dirname(os.path.abspath('__file__')), '../datasets'))"
   ]
  },
  {
   "cell_type": "code",
   "execution_count": 24,
   "id": "0e89f647-9cb3-49df-952d-38fe76e920a7",
   "metadata": {},
   "outputs": [],
   "source": [
    "import ir_datasets\n",
    "import ntcir_transfer\n",
    "dataset = ir_datasets.load('ntcir-transfer/1/train')"
   ]
  },
  {
   "cell_type": "code",
   "execution_count": 25,
   "id": "58ad4f01-76d9-45e9-bf04-e12a4ede4977",
   "metadata": {},
   "outputs": [
    {
     "data": {
      "text/plain": [
       "OrderedDict([('doc_id', str), ('text', str)])"
      ]
     },
     "execution_count": 25,
     "metadata": {},
     "output_type": "execute_result"
    }
   ],
   "source": [
    "dataset.docs_cls().__annotations__"
   ]
  },
  {
   "cell_type": "code",
   "execution_count": null,
   "id": "2b7e2ffc-9278-4db3-a76e-261a06dbbd9a",
   "metadata": {
    "tags": []
   },
   "outputs": [],
   "source": [
    "docstore = dataset.docs_store()\n",
    "docstore.get('gakkai-0000011144').text # the one in the overview paper"
   ]
  },
  {
   "cell_type": "code",
   "execution_count": 27,
   "id": "0298cd7f-8b7c-4dff-be55-298af89c756f",
   "metadata": {},
   "outputs": [
    {
     "data": {
      "text/plain": [
       "OrderedDict([('query_id', str), ('text', str)])"
      ]
     },
     "execution_count": 27,
     "metadata": {},
     "output_type": "execute_result"
    }
   ],
   "source": [
    "dataset.queries_cls().__annotations__"
   ]
  },
  {
   "cell_type": "code",
   "execution_count": null,
   "id": "a89f768e-ef23-4913-b38f-4d48be553249",
   "metadata": {
    "tags": []
   },
   "outputs": [],
   "source": [
    "import pandas as pd\n",
    "pd.DataFrame(dataset.queries_iter())"
   ]
  },
  {
   "cell_type": "code",
   "execution_count": 29,
   "id": "9c080c32-8868-4cb3-946e-d910bc2ed349",
   "metadata": {},
   "outputs": [
    {
     "data": {
      "text/plain": [
       "{2: 'relevant', 1: 'partially relevant', 0: 'not relevant'}"
      ]
     },
     "execution_count": 29,
     "metadata": {},
     "output_type": "execute_result"
    }
   ],
   "source": [
    "dataset.qrels_defs()"
   ]
  },
  {
   "cell_type": "code",
   "execution_count": null,
   "id": "f89949e0-8a73-4e12-bd63-16ab0e95e54b",
   "metadata": {
    "tags": []
   },
   "outputs": [],
   "source": [
    "pd.DataFrame(dataset.qrels_iter())"
   ]
  },
  {
   "cell_type": "code",
   "execution_count": 31,
   "id": "2d1d0e27-8c06-4b2e-a600-88763eca22bb",
   "metadata": {},
   "outputs": [
    {
     "data": {
      "text/html": [
       "<div>\n",
       "<style scoped>\n",
       "    .dataframe tbody tr th:only-of-type {\n",
       "        vertical-align: middle;\n",
       "    }\n",
       "\n",
       "    .dataframe tbody tr th {\n",
       "        vertical-align: top;\n",
       "    }\n",
       "\n",
       "    .dataframe thead th {\n",
       "        text-align: right;\n",
       "    }\n",
       "</style>\n",
       "<table border=\"1\" class=\"dataframe\">\n",
       "  <thead>\n",
       "    <tr style=\"text-align: right;\">\n",
       "      <th></th>\n",
       "      <th>query_id</th>\n",
       "      <th>doc_id</th>\n",
       "      <th>score</th>\n",
       "    </tr>\n",
       "  </thead>\n",
       "  <tbody>\n",
       "    <tr>\n",
       "      <th>0</th>\n",
       "      <td>0001</td>\n",
       "      <td>gakkai-0000064659</td>\n",
       "      <td>13.563926</td>\n",
       "    </tr>\n",
       "    <tr>\n",
       "      <th>1</th>\n",
       "      <td>0001</td>\n",
       "      <td>gakkai-0000225773</td>\n",
       "      <td>13.524426</td>\n",
       "    </tr>\n",
       "    <tr>\n",
       "      <th>2</th>\n",
       "      <td>0001</td>\n",
       "      <td>gakkai-0000198139</td>\n",
       "      <td>13.403230</td>\n",
       "    </tr>\n",
       "    <tr>\n",
       "      <th>3</th>\n",
       "      <td>0001</td>\n",
       "      <td>gakkai-0000245010</td>\n",
       "      <td>13.403230</td>\n",
       "    </tr>\n",
       "    <tr>\n",
       "      <th>4</th>\n",
       "      <td>0001</td>\n",
       "      <td>gakkai-0000328806</td>\n",
       "      <td>13.402888</td>\n",
       "    </tr>\n",
       "    <tr>\n",
       "      <th>...</th>\n",
       "      <td>...</td>\n",
       "      <td>...</td>\n",
       "      <td>...</td>\n",
       "    </tr>\n",
       "    <tr>\n",
       "      <th>76510</th>\n",
       "      <td>0083</td>\n",
       "      <td>gakkai-0000272261</td>\n",
       "      <td>-6.225316</td>\n",
       "    </tr>\n",
       "    <tr>\n",
       "      <th>76511</th>\n",
       "      <td>0083</td>\n",
       "      <td>gakkai-0000242113</td>\n",
       "      <td>-6.228070</td>\n",
       "    </tr>\n",
       "    <tr>\n",
       "      <th>76512</th>\n",
       "      <td>0083</td>\n",
       "      <td>gakkai-0000075436</td>\n",
       "      <td>-6.229898</td>\n",
       "    </tr>\n",
       "    <tr>\n",
       "      <th>76513</th>\n",
       "      <td>0083</td>\n",
       "      <td>gakkai-0000151829</td>\n",
       "      <td>-6.229998</td>\n",
       "    </tr>\n",
       "    <tr>\n",
       "      <th>76514</th>\n",
       "      <td>0083</td>\n",
       "      <td>gakkai-0000275756</td>\n",
       "      <td>-6.231046</td>\n",
       "    </tr>\n",
       "  </tbody>\n",
       "</table>\n",
       "<p>76515 rows × 3 columns</p>\n",
       "</div>"
      ],
      "text/plain": [
       "      query_id             doc_id      score\n",
       "0         0001  gakkai-0000064659  13.563926\n",
       "1         0001  gakkai-0000225773  13.524426\n",
       "2         0001  gakkai-0000198139  13.403230\n",
       "3         0001  gakkai-0000245010  13.403230\n",
       "4         0001  gakkai-0000328806  13.402888\n",
       "...        ...                ...        ...\n",
       "76510     0083  gakkai-0000272261  -6.225316\n",
       "76511     0083  gakkai-0000242113  -6.228070\n",
       "76512     0083  gakkai-0000075436  -6.229898\n",
       "76513     0083  gakkai-0000151829  -6.229998\n",
       "76514     0083  gakkai-0000275756  -6.231046\n",
       "\n",
       "[76515 rows x 3 columns]"
      ]
     },
     "execution_count": 31,
     "metadata": {},
     "output_type": "execute_result"
    }
   ],
   "source": [
    "pd.DataFrame(dataset.scoreddocs_iter())"
   ]
  }
 ],
 "metadata": {
  "environment": {
   "kernel": "python3",
   "name": "common-cpu.m102",
   "type": "gcloud",
   "uri": "gcr.io/deeplearning-platform-release/base-cpu:m102"
  },
  "kernelspec": {
   "display_name": "Python 3",
   "language": "python",
   "name": "python3"
  },
  "language_info": {
   "codemirror_mode": {
    "name": "ipython",
    "version": 3
   },
   "file_extension": ".py",
   "mimetype": "text/x-python",
   "name": "python",
   "nbconvert_exporter": "python",
   "pygments_lexer": "ipython3",
   "version": "3.7.12"
  }
 },
 "nbformat": 4,
 "nbformat_minor": 5
}
