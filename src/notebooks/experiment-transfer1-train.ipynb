{
 "cells": [
  {
   "cell_type": "markdown",
   "id": "089f1da7-c7da-409c-ac34-c9e4b83e641e",
   "metadata": {},
   "source": [
    "# Experiment on NTCIR-17 Transfer Task Train Dataset\n",
    "\n",
    "This notebook shows how to apply BM25 to the train dataset of NTCIR-17 Transfer Task using [PyTerrier](https://pyterrier.readthedocs.io/en/latest/) (v0.9.2)."
   ]
  },
  {
   "cell_type": "markdown",
   "id": "8b5d8447-ae65-4a2f-be74-b469d9842b6e",
   "metadata": {},
   "source": [
    "## Previous Step\n",
    "\n",
    "- `preprocess-transfer1-train.ipynb`\n",
    "\n",
    "## Requirement\n",
    "\n",
    "- Java v11"
   ]
  },
  {
   "cell_type": "markdown",
   "id": "30a0eccc-074e-4d2e-9536-144c58191c0e",
   "metadata": {},
   "source": [
    "## Path"
   ]
  },
  {
   "cell_type": "code",
   "execution_count": 109,
   "id": "16552c30-96ce-4e3e-898f-3aea6b641952",
   "metadata": {
    "tags": []
   },
   "outputs": [],
   "source": [
    "import os\n",
    "os.environ['INDEX'] = '../indexes/ntcir17-transfer/train'\n",
    "os.environ['RUN'] = '../runs/ntcir17-transfer/train'"
   ]
  },
  {
   "cell_type": "markdown",
   "id": "17bfd4f9-905d-4ed9-93ad-0ac34d1819e9",
   "metadata": {},
   "source": [
    "## Datasets"
   ]
  },
  {
   "cell_type": "code",
   "execution_count": 110,
   "id": "703fa07a-aeff-4221-a6ea-fb04b2290a1e",
   "metadata": {},
   "outputs": [
    {
     "name": "stdout",
     "output_type": "stream",
     "text": [
      "\n",
      "\u001b[1m[\u001b[0m\u001b[34;49mnotice\u001b[0m\u001b[1;39;49m]\u001b[0m\u001b[39;49m A new release of pip is available: \u001b[0m\u001b[31;49m23.0.1\u001b[0m\u001b[39;49m -> \u001b[0m\u001b[32;49m23.1.2\u001b[0m\n",
      "\u001b[1m[\u001b[0m\u001b[34;49mnotice\u001b[0m\u001b[1;39;49m]\u001b[0m\u001b[39;49m To update, run: \u001b[0m\u001b[32;49mpip install --upgrade pip\u001b[0m\n"
     ]
    }
   ],
   "source": [
    "import sys\n",
    "!{sys.executable} -m pip install -q ir_datasets"
   ]
  },
  {
   "cell_type": "code",
   "execution_count": 111,
   "id": "71f8014e-2c66-4927-b255-77acb72fb85e",
   "metadata": {},
   "outputs": [],
   "source": [
    "sys.path.append(os.path.join(os.path.dirname(os.path.abspath('__file__')), '../datasets'))"
   ]
  },
  {
   "cell_type": "code",
   "execution_count": 112,
   "id": "864c0eb2-88a3-4a38-a7f5-55044dc9e01d",
   "metadata": {},
   "outputs": [],
   "source": [
    "import ir_datasets\n",
    "import ntcir_transfer\n",
    "dataset = ir_datasets.load('ntcir-transfer/1/train')"
   ]
  },
  {
   "cell_type": "markdown",
   "id": "3e496db9-abf5-4e54-a7e4-9a894aaa8673",
   "metadata": {},
   "source": [
    "## Tokenization\n",
    "\n",
    "- In this example, we use [SudachiPy](https://github.com/WorksApplications/SudachiPy) (v0.5.4) + sudachidict_core dictionary + SplitMode.A\n",
    "- Other tokenizers can also be used"
   ]
  },
  {
   "cell_type": "code",
   "execution_count": 113,
   "id": "2ed06226-ae78-4b45-8f1f-2f73fbc6a260",
   "metadata": {},
   "outputs": [
    {
     "name": "stdout",
     "output_type": "stream",
     "text": [
      "\n",
      "\u001b[1m[\u001b[0m\u001b[34;49mnotice\u001b[0m\u001b[1;39;49m]\u001b[0m\u001b[39;49m A new release of pip is available: \u001b[0m\u001b[31;49m23.0.1\u001b[0m\u001b[39;49m -> \u001b[0m\u001b[32;49m23.1.2\u001b[0m\n",
      "\u001b[1m[\u001b[0m\u001b[34;49mnotice\u001b[0m\u001b[1;39;49m]\u001b[0m\u001b[39;49m To update, run: \u001b[0m\u001b[32;49mpip install --upgrade pip\u001b[0m\n"
     ]
    }
   ],
   "source": [
    "import sys\n",
    "!{sys.executable} -m pip install -q sudachipy sudachidict_core"
   ]
  },
  {
   "cell_type": "code",
   "execution_count": 114,
   "id": "55019e1a-6099-41c0-a689-439234116479",
   "metadata": {},
   "outputs": [],
   "source": [
    "import re\n",
    "import json\n",
    "from sudachipy import tokenizer\n",
    "from sudachipy import dictionary\n",
    "tokenizer_obj = dictionary.Dictionary().create()\n",
    "mode = tokenizer.Tokenizer.SplitMode.A"
   ]
  },
  {
   "cell_type": "code",
   "execution_count": 115,
   "id": "9ed61922-729d-446d-83af-2daebdab21fe",
   "metadata": {},
   "outputs": [],
   "source": [
    "def tokenize_text(text):\n",
    "    atok = ' '.join([m.surface() for m in tokenizer_obj.tokenize(text, mode)])\n",
    "    return atok"
   ]
  },
  {
   "cell_type": "code",
   "execution_count": 116,
   "id": "271489ae-af8d-4d27-8158-35169afae3fc",
   "metadata": {},
   "outputs": [
    {
     "data": {
      "text/plain": [
       "'すもも も もも も もも の うち'"
      ]
     },
     "execution_count": 116,
     "metadata": {},
     "output_type": "execute_result"
    }
   ],
   "source": [
    "tokenize_text('すもももももももものうち')"
   ]
  },
  {
   "cell_type": "markdown",
   "id": "63cc205a-bd9c-400d-a438-facf38252e6a",
   "metadata": {},
   "source": [
    "## Experiment"
   ]
  },
  {
   "cell_type": "markdown",
   "id": "e1981f98-d7a7-403f-a295-b3df073abcc8",
   "metadata": {},
   "source": [
    "### PyTerrier"
   ]
  },
  {
   "cell_type": "code",
   "execution_count": 117,
   "id": "1551effc-c2c1-409e-bb40-3465d5b4f86f",
   "metadata": {},
   "outputs": [
    {
     "data": {
      "text/plain": [
       "'/usr/lib/jvm/default'"
      ]
     },
     "execution_count": 117,
     "metadata": {},
     "output_type": "execute_result"
    }
   ],
   "source": [
    "# Change JAVA_HOME to fit your environment\n",
    "JAVA_HOME = '/usr/lib/jvm/default'\n",
    "os.environ['JAVA_HOME'] = JAVA_HOME\n",
    "os.getenv('JAVA_HOME')"
   ]
  },
  {
   "cell_type": "code",
   "execution_count": 118,
   "id": "31e10940-3128-4e13-bfdf-46c9da136cb7",
   "metadata": {
    "tags": []
   },
   "outputs": [
    {
     "name": "stdout",
     "output_type": "stream",
     "text": [
      "\n",
      "\u001b[1m[\u001b[0m\u001b[34;49mnotice\u001b[0m\u001b[1;39;49m]\u001b[0m\u001b[39;49m A new release of pip is available: \u001b[0m\u001b[31;49m23.0.1\u001b[0m\u001b[39;49m -> \u001b[0m\u001b[32;49m23.1.2\u001b[0m\n",
      "\u001b[1m[\u001b[0m\u001b[34;49mnotice\u001b[0m\u001b[1;39;49m]\u001b[0m\u001b[39;49m To update, run: \u001b[0m\u001b[32;49mpip install --upgrade pip\u001b[0m\n"
     ]
    }
   ],
   "source": [
    "import sys\n",
    "!{sys.executable} -m pip install -q python-terrier"
   ]
  },
  {
   "cell_type": "code",
   "execution_count": 119,
   "id": "127cca6a-3f0b-45e9-b0e1-27f871890b2c",
   "metadata": {},
   "outputs": [],
   "source": [
    "import pandas as pd\n",
    "import pyterrier as pt\n",
    "if not pt.started():\n",
    "  pt.init(tqdm='notebook')"
   ]
  },
  {
   "cell_type": "code",
   "execution_count": 120,
   "id": "4664308e-33cb-4557-bb18-85312a319e82",
   "metadata": {},
   "outputs": [],
   "source": [
    "dataset_pt = pt.get_dataset('irds:ntcir-transfer/1/train')"
   ]
  },
  {
   "cell_type": "markdown",
   "id": "3e954951-001c-494d-8f70-6ae8b74ce37f",
   "metadata": {
    "tags": []
   },
   "source": [
    "### Indexing"
   ]
  },
  {
   "cell_type": "code",
   "execution_count": 121,
   "id": "2ce3d68a-9545-4e48-aeed-3f0dafa19377",
   "metadata": {},
   "outputs": [],
   "source": [
    "# !rm -rf $INDEX\n",
    "!mkdir -p $INDEX"
   ]
  },
  {
   "cell_type": "code",
   "execution_count": 122,
   "id": "0d974cd0-55f8-4fae-b3d8-c2340b4a207a",
   "metadata": {},
   "outputs": [],
   "source": [
    "indexer = pt.IterDictIndexer(os.getenv('INDEX'))\n",
    "indexer.setProperty(\"tokeniser\", \"UTFTokeniser\")\n",
    "indexer.setProperty(\"termpipelines\", \"\")"
   ]
  },
  {
   "cell_type": "code",
   "execution_count": 123,
   "id": "06ec5296-6a57-4b93-9ed9-8cdbdf512767",
   "metadata": {},
   "outputs": [],
   "source": [
    "def train_doc_generate():\n",
    "    for doc in dataset.docs_iter():\n",
    "        yield { 'docno': doc.doc_id, 'text': tokenize_text(doc.text) }"
   ]
  },
  {
   "cell_type": "code",
   "execution_count": 124,
   "id": "8c4cea39-5b7b-4f65-82d5-ea0015e86f02",
   "metadata": {},
   "outputs": [
    {
     "name": "stdout",
     "output_type": "stream",
     "text": [
      "CPU times: user 1e+03 ns, sys: 0 ns, total: 1e+03 ns\n",
      "Wall time: 3.1 µs\n"
     ]
    }
   ],
   "source": [
    "%%time\n",
    "# indexref = indexer.index(train_doc_generate())"
   ]
  },
  {
   "cell_type": "code",
   "execution_count": 125,
   "id": "7b0b704b",
   "metadata": {},
   "outputs": [
    {
     "name": "stdout",
     "output_type": "stream",
     "text": [
      "Using mean: False\n",
      "Segment 0\n"
     ]
    },
    {
     "name": "stderr",
     "output_type": "stream",
     "text": [
      "100%|██████████| 10404/10404 [53:42<00:00,  3.23it/s] \n"
     ]
    }
   ],
   "source": [
    "sys.path.append(\"../\")\n",
    "from pathlib import Path\n",
    "from models.jance.jance import PyTDenseIndexer, PyTDenseRetrieval\n",
    "\n",
    "index_path = Path(\"../indexes/ntcir17-transfer/train/jance\")\n",
    "if not index_path.joinpath('shards.pkl').exists():\n",
    "    jance_indexer = PyTDenseIndexer(index_path, verbose=False)\n",
    "    index_path = jance_indexer.index(train_doc_generate())"
   ]
  },
  {
   "cell_type": "code",
   "execution_count": 126,
   "id": "55b33e38-8c2d-4cbf-ba14-1d6483d222a5",
   "metadata": {},
   "outputs": [
    {
     "name": "stdout",
     "output_type": "stream",
     "text": [
      "data.direct.bf\t\t   data.lexicon.fsomaphash  data.meta.zdata\n",
      "data.document.fsarrayfile  data.lexicon.fsomapid    data.properties\n",
      "data.inverted.bf\t   data.meta-0.fsomapfile   jance\n",
      "data.lexicon.fsomapfile    data.meta.idx\n"
     ]
    }
   ],
   "source": [
    "!ls $INDEX"
   ]
  },
  {
   "cell_type": "markdown",
   "id": "9df08bdb-e2f7-42ed-b1d1-55946326a3ab",
   "metadata": {},
   "source": [
    "### Topics"
   ]
  },
  {
   "cell_type": "code",
   "execution_count": 127,
   "id": "b64ac8b0-bd95-4f6b-bb73-2da355a6a5df",
   "metadata": {},
   "outputs": [],
   "source": [
    "def tokenize_topics():\n",
    "    import re\n",
    "    code = re.compile('[!\"#$%&\\'\\\\\\\\()*+,-./:;<=>?@[\\\\]^_`{|}~「」〔〕“”〈〉『』【】＆＊・（）＄＃＠。、？！｀＋￥％]')\n",
    "    queries = dataset_pt.get_topics(tokenise_query=False)\n",
    "    for idx, row in queries.iterrows():\n",
    "        queries.iloc[idx, 1] = code.sub('', tokenize_text(row.query))\n",
    "    return queries"
   ]
  },
  {
   "cell_type": "code",
   "execution_count": 128,
   "id": "38f476d1-32b7-4764-8ad4-ef8260181cff",
   "metadata": {},
   "outputs": [
    {
     "data": {
      "text/html": [
       "<div>\n",
       "<style scoped>\n",
       "    .dataframe tbody tr th:only-of-type {\n",
       "        vertical-align: middle;\n",
       "    }\n",
       "\n",
       "    .dataframe tbody tr th {\n",
       "        vertical-align: top;\n",
       "    }\n",
       "\n",
       "    .dataframe thead th {\n",
       "        text-align: right;\n",
       "    }\n",
       "</style>\n",
       "<table border=\"1\" class=\"dataframe\">\n",
       "  <thead>\n",
       "    <tr style=\"text-align: right;\">\n",
       "      <th></th>\n",
       "      <th>qid</th>\n",
       "      <th>query</th>\n",
       "    </tr>\n",
       "  </thead>\n",
       "  <tbody>\n",
       "    <tr>\n",
       "      <th>0</th>\n",
       "      <td>0001</td>\n",
       "      <td>ロボット</td>\n",
       "    </tr>\n",
       "    <tr>\n",
       "      <th>1</th>\n",
       "      <td>0002</td>\n",
       "      <td>複合 名詞 の 構造 解析</td>\n",
       "    </tr>\n",
       "    <tr>\n",
       "      <th>2</th>\n",
       "      <td>0003</td>\n",
       "      <td>サンプル 複雑 性</td>\n",
       "    </tr>\n",
       "    <tr>\n",
       "      <th>3</th>\n",
       "      <td>0004</td>\n",
       "      <td>文書 画像 理解</td>\n",
       "    </tr>\n",
       "    <tr>\n",
       "      <th>4</th>\n",
       "      <td>0005</td>\n",
       "      <td>特徴 次元 リダクション</td>\n",
       "    </tr>\n",
       "    <tr>\n",
       "      <th>...</th>\n",
       "      <td>...</td>\n",
       "      <td>...</td>\n",
       "    </tr>\n",
       "    <tr>\n",
       "      <th>78</th>\n",
       "      <td>0079</td>\n",
       "      <td>β  アミロイド タンパク</td>\n",
       "    </tr>\n",
       "    <tr>\n",
       "      <th>79</th>\n",
       "      <td>0080</td>\n",
       "      <td>神経 再生</td>\n",
       "    </tr>\n",
       "    <tr>\n",
       "      <th>80</th>\n",
       "      <td>0081</td>\n",
       "      <td>脳 の 性差</td>\n",
       "    </tr>\n",
       "    <tr>\n",
       "      <th>81</th>\n",
       "      <td>0082</td>\n",
       "      <td>抗 マラリア 薬剤</td>\n",
       "    </tr>\n",
       "    <tr>\n",
       "      <th>82</th>\n",
       "      <td>0083</td>\n",
       "      <td>骨 形成 の 分子 メカニズム</td>\n",
       "    </tr>\n",
       "  </tbody>\n",
       "</table>\n",
       "<p>83 rows × 2 columns</p>\n",
       "</div>"
      ],
      "text/plain": [
       "     qid            query\n",
       "0   0001             ロボット\n",
       "1   0002    複合 名詞 の 構造 解析\n",
       "2   0003        サンプル 複雑 性\n",
       "3   0004         文書 画像 理解\n",
       "4   0005     特徴 次元 リダクション\n",
       "..   ...              ...\n",
       "78  0079    β  アミロイド タンパク\n",
       "79  0080            神経 再生\n",
       "80  0081           脳 の 性差\n",
       "81  0082        抗 マラリア 薬剤\n",
       "82  0083  骨 形成 の 分子 メカニズム\n",
       "\n",
       "[83 rows x 2 columns]"
      ]
     },
     "execution_count": 128,
     "metadata": {},
     "output_type": "execute_result"
    }
   ],
   "source": [
    "tokenize_topics()"
   ]
  },
  {
   "cell_type": "markdown",
   "id": "29cc13bf-ba26-4450-8105-739caced4991",
   "metadata": {},
   "source": [
    "### Retrieval"
   ]
  },
  {
   "cell_type": "code",
   "execution_count": 129,
   "id": "a4c404fb-f369-4118-ae91-08bdd8fd9650",
   "metadata": {},
   "outputs": [],
   "source": [
    "# Load existing index files\n",
    "indexref = pt.IndexFactory.of(os.getenv('INDEX'))"
   ]
  },
  {
   "cell_type": "code",
   "execution_count": 130,
   "id": "0daa5477-b7be-42e5-bc8f-af29811a9d9b",
   "metadata": {},
   "outputs": [],
   "source": [
    "!mkdir -p $RUN"
   ]
  },
  {
   "cell_type": "code",
   "execution_count": 131,
   "id": "805a6cb8-2993-4ae8-b4e6-192710a115e2",
   "metadata": {},
   "outputs": [
    {
     "name": "stdout",
     "output_type": "stream",
     "text": [
      "Using mean: False\n"
     ]
    }
   ],
   "source": [
    "bm25 = pt.BatchRetrieve(indexref, wmodel=\"BM25\")\n",
    "anceretr = PyTDenseRetrieval(index_path)"
   ]
  },
  {
   "cell_type": "code",
   "execution_count": 132,
   "id": "a8695de6-e2cf-4a8a-b05e-a3c4f09e097a",
   "metadata": {},
   "outputs": [
    {
     "name": "stdout",
     "output_type": "stream",
     "text": [
      "***** inference of 83 queries *****\n",
      "***** faiss search for 83 queries on 1 shards *****\n"
     ]
    },
    {
     "name": "stderr",
     "output_type": "stream",
     "text": [
      "Loading shards: 100%|██████████| 1/1 [12:04<00:00, 724.53s/shard]\n",
      "Calc Scores: 1it [12:04, 724.53s/it]\n"
     ]
    },
    {
     "name": "stdout",
     "output_type": "stream",
     "text": [
      "CPU times: user 12min 12s, sys: 20.1 s, total: 12min 32s\n",
      "Wall time: 12min 24s\n"
     ]
    },
    {
     "data": {
      "text/html": [
       "<div>\n",
       "<style scoped>\n",
       "    .dataframe tbody tr th:only-of-type {\n",
       "        vertical-align: middle;\n",
       "    }\n",
       "\n",
       "    .dataframe tbody tr th {\n",
       "        vertical-align: top;\n",
       "    }\n",
       "\n",
       "    .dataframe thead th {\n",
       "        text-align: right;\n",
       "    }\n",
       "</style>\n",
       "<table border=\"1\" class=\"dataframe\">\n",
       "  <thead>\n",
       "    <tr style=\"text-align: right;\">\n",
       "      <th></th>\n",
       "      <th>name</th>\n",
       "      <th>nDCG</th>\n",
       "    </tr>\n",
       "  </thead>\n",
       "  <tbody>\n",
       "    <tr>\n",
       "      <th>0</th>\n",
       "      <td>MyRun-BM25</td>\n",
       "      <td>0.526288</td>\n",
       "    </tr>\n",
       "    <tr>\n",
       "      <th>1</th>\n",
       "      <td>JANCE</td>\n",
       "      <td>0.299774</td>\n",
       "    </tr>\n",
       "  </tbody>\n",
       "</table>\n",
       "</div>"
      ],
      "text/plain": [
       "         name      nDCG\n",
       "0  MyRun-BM25  0.526288\n",
       "1       JANCE  0.299774"
      ]
     },
     "execution_count": 132,
     "metadata": {},
     "output_type": "execute_result"
    }
   ],
   "source": [
    "%%time\n",
    "from pyterrier.measures import *\n",
    "pt.Experiment(\n",
    "    [bm25, anceretr],\n",
    "    tokenize_topics(),\n",
    "    dataset_pt.get_qrels(),\n",
    "    eval_metrics=[nDCG],\n",
    "    names = [\"MyRun-BM25\", \"JANCE\"],\n",
    "    save_dir = os.getenv('RUN'),\n",
    "    save_mode = \"overwrite\"\n",
    ")"
   ]
  },
  {
   "cell_type": "code",
   "execution_count": 133,
   "id": "9718c59a-0c32-40b0-b2a1-883ac5bb8a65",
   "metadata": {},
   "outputs": [
    {
     "name": "stdout",
     "output_type": "stream",
     "text": [
      "0001 Q0 gakkai-0000064659 0 13.583940506962453 pyterrier\n",
      "0001 Q0 gakkai-0000225773 1 13.527180904344576 pyterrier\n",
      "0001 Q0 gakkai-0000328806 2 13.432803868573687 pyterrier\n",
      "0001 Q0 gakkai-0000198139 3 13.419095037920066 pyterrier\n",
      "0001 Q0 gakkai-0000124728 4 13.402377752084877 pyterrier\n",
      "0001 Q0 gakkai-0000168454 5 13.397874358074015 pyterrier\n",
      "0001 Q0 gakkai-0000297977 6 13.395025935634221 pyterrier\n",
      "0001 Q0 gakkai-0000245010 7 13.39289585771344 pyterrier\n",
      "0001 Q0 gakkai-0000045041 8 13.392088725112261 pyterrier\n",
      "0001 Q0 gakkai-0000094695 9 13.391086411155124 pyterrier\n"
     ]
    }
   ],
   "source": [
    "!gunzip -c $RUN/MyRun-BM25.res.gz | head"
   ]
  }
 ],
 "metadata": {
  "environment": {
   "kernel": "python3",
   "name": "common-cpu.m102",
   "type": "gcloud",
   "uri": "gcr.io/deeplearning-platform-release/base-cpu:m102"
  },
  "kernelspec": {
   "display_name": "Python 3",
   "language": "python",
   "name": "python3"
  },
  "language_info": {
   "codemirror_mode": {
    "name": "ipython",
    "version": 3
   },
   "file_extension": ".py",
   "mimetype": "text/x-python",
   "name": "python",
   "nbconvert_exporter": "python",
   "pygments_lexer": "ipython3",
   "version": "3.9.15"
  }
 },
 "nbformat": 4,
 "nbformat_minor": 5
}
