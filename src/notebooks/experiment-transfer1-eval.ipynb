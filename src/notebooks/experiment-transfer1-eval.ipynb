{
 "cells": [
  {
   "cell_type": "markdown",
   "id": "089f1da7-c7da-409c-ac34-c9e4b83e641e",
   "metadata": {},
   "source": [
    "# Experiment on NTCIR-17 Transfer Task Eval Dataset\n",
    "\n",
    "This notebook shows how to apply BM25 to the eval dataset of NTCIR-17 Transfer Task using [PyTerrier](https://pyterrier.readthedocs.io/en/latest/) (v0.9.2)."
   ]
  },
  {
   "cell_type": "markdown",
   "id": "8b5d8447-ae65-4a2f-be74-b469d9842b6e",
   "metadata": {},
   "source": [
    "## Previous Step\n",
    "\n",
    "- `preprocess-transfer1-eval-ipynb`\n",
    "\n",
    "## Requirement\n",
    "\n",
    "- Java v11"
   ]
  },
  {
   "cell_type": "markdown",
   "id": "30a0eccc-074e-4d2e-9536-144c58191c0e",
   "metadata": {},
   "source": [
    "## Path"
   ]
  },
  {
   "cell_type": "code",
   "execution_count": 1,
   "id": "16552c30-96ce-4e3e-898f-3aea6b641952",
   "metadata": {
    "tags": []
   },
   "outputs": [],
   "source": [
    "import os\n",
    "os.environ['INDEX'] = '../indexes/ntcir17-transfer/jance'\n",
    "os.environ['RUN'] = '../runs/ntcir17-transfer/jance'"
   ]
  },
  {
   "cell_type": "markdown",
   "id": "17bfd4f9-905d-4ed9-93ad-0ac34d1819e9",
   "metadata": {},
   "source": [
    "## Datasets"
   ]
  },
  {
   "cell_type": "code",
   "execution_count": 2,
   "id": "703fa07a-aeff-4221-a6ea-fb04b2290a1e",
   "metadata": {},
   "outputs": [
    {
     "name": "stdout",
     "output_type": "stream",
     "text": [
      "\n",
      "\u001b[1m[\u001b[0m\u001b[34;49mnotice\u001b[0m\u001b[1;39;49m]\u001b[0m\u001b[39;49m A new release of pip is available: \u001b[0m\u001b[31;49m23.0.1\u001b[0m\u001b[39;49m -> \u001b[0m\u001b[32;49m23.1.2\u001b[0m\n",
      "\u001b[1m[\u001b[0m\u001b[34;49mnotice\u001b[0m\u001b[1;39;49m]\u001b[0m\u001b[39;49m To update, run: \u001b[0m\u001b[32;49mpip install --upgrade pip\u001b[0m\n"
     ]
    }
   ],
   "source": [
    "import sys\n",
    "!{sys.executable} -m pip install -q ir_datasets"
   ]
  },
  {
   "cell_type": "code",
   "execution_count": 3,
   "id": "71f8014e-2c66-4927-b255-77acb72fb85e",
   "metadata": {},
   "outputs": [],
   "source": [
    "sys.path.append(os.path.join(os.path.dirname(os.path.abspath('__file__')), '../datasets'))\n",
    "sys.path.append(os.path.join(os.path.dirname(os.path.abspath('__file__')), '..'))"
   ]
  },
  {
   "cell_type": "code",
   "execution_count": 4,
   "id": "864c0eb2-88a3-4a38-a7f5-55044dc9e01d",
   "metadata": {},
   "outputs": [],
   "source": [
    "import ir_datasets\n",
    "import ntcir_transfer\n",
    "dataset = ir_datasets.load('ntcir-transfer/1/eval')"
   ]
  },
  {
   "cell_type": "markdown",
   "id": "3e496db9-abf5-4e54-a7e4-9a894aaa8673",
   "metadata": {},
   "source": [
    "## Tokenization\n",
    "\n",
    "- In this example, we use [SudachiPy](https://github.com/WorksApplications/SudachiPy) (v0.5.4) + sudachidict_core dictionary + SplitMode.A\n",
    "- Other tokenizers can also be used"
   ]
  },
  {
   "cell_type": "code",
   "execution_count": 5,
   "id": "2ed06226-ae78-4b45-8f1f-2f73fbc6a260",
   "metadata": {},
   "outputs": [
    {
     "name": "stdout",
     "output_type": "stream",
     "text": [
      "\n",
      "\u001b[1m[\u001b[0m\u001b[34;49mnotice\u001b[0m\u001b[1;39;49m]\u001b[0m\u001b[39;49m A new release of pip is available: \u001b[0m\u001b[31;49m23.0.1\u001b[0m\u001b[39;49m -> \u001b[0m\u001b[32;49m23.1.2\u001b[0m\n",
      "\u001b[1m[\u001b[0m\u001b[34;49mnotice\u001b[0m\u001b[1;39;49m]\u001b[0m\u001b[39;49m To update, run: \u001b[0m\u001b[32;49mpip install --upgrade pip\u001b[0m\n"
     ]
    }
   ],
   "source": [
    "import sys\n",
    "!{sys.executable} -m pip install -q sudachipy sudachidict_core"
   ]
  },
  {
   "cell_type": "code",
   "execution_count": 6,
   "id": "55019e1a-6099-41c0-a689-439234116479",
   "metadata": {},
   "outputs": [],
   "source": [
    "import re\n",
    "import json\n",
    "from sudachipy import tokenizer\n",
    "from sudachipy import dictionary\n",
    "tokenizer_obj = dictionary.Dictionary().create()\n",
    "mode = tokenizer.Tokenizer.SplitMode.A"
   ]
  },
  {
   "cell_type": "code",
   "execution_count": 7,
   "id": "9ed61922-729d-446d-83af-2daebdab21fe",
   "metadata": {},
   "outputs": [],
   "source": [
    "def tokenize_text(text):\n",
    "    atok = ' '.join([m.surface() for m in tokenizer_obj.tokenize(text, mode)])\n",
    "    return atok"
   ]
  },
  {
   "cell_type": "code",
   "execution_count": 8,
   "id": "271489ae-af8d-4d27-8158-35169afae3fc",
   "metadata": {},
   "outputs": [
    {
     "data": {
      "text/plain": [
       "'すもも も もも も もも の うち'"
      ]
     },
     "execution_count": 8,
     "metadata": {},
     "output_type": "execute_result"
    }
   ],
   "source": [
    "tokenize_text('すもももももももものうち')"
   ]
  },
  {
   "cell_type": "markdown",
   "id": "63cc205a-bd9c-400d-a438-facf38252e6a",
   "metadata": {},
   "source": [
    "## Experiment"
   ]
  },
  {
   "cell_type": "markdown",
   "id": "e1981f98-d7a7-403f-a295-b3df073abcc8",
   "metadata": {},
   "source": [
    "### PyTerrier"
   ]
  },
  {
   "cell_type": "code",
   "execution_count": 9,
   "id": "1551effc-c2c1-409e-bb40-3465d5b4f86f",
   "metadata": {},
   "outputs": [
    {
     "data": {
      "text/plain": [
       "'/usr/lib/jvm/default'"
      ]
     },
     "execution_count": 9,
     "metadata": {},
     "output_type": "execute_result"
    }
   ],
   "source": [
    "# Change JAVA_HOME to fit your environment\n",
    "JAVA_HOME = '/usr/lib/jvm/default'\n",
    "os.environ['JAVA_HOME'] = JAVA_HOME\n",
    "os.getenv('JAVA_HOME')"
   ]
  },
  {
   "cell_type": "code",
   "execution_count": 10,
   "id": "31e10940-3128-4e13-bfdf-46c9da136cb7",
   "metadata": {
    "tags": []
   },
   "outputs": [],
   "source": [
    "import sys\n",
    "# !{sys.executable} -m pip install -q python-terrier"
   ]
  },
  {
   "cell_type": "code",
   "execution_count": 11,
   "id": "127cca6a-3f0b-45e9-b0e1-27f871890b2c",
   "metadata": {},
   "outputs": [
    {
     "name": "stderr",
     "output_type": "stream",
     "text": [
      "PyTerrier 0.9.2 has loaded Terrier 5.7 (built by craigm on 2022-11-10 18:30) and terrier-helper 0.0.7\n",
      "\n",
      "No etc/terrier.properties, using terrier.default.properties for bootstrap configuration.\n"
     ]
    }
   ],
   "source": [
    "import pandas as pd\n",
    "import pyterrier as pt\n",
    "if not pt.started():\n",
    "  pt.init(tqdm='notebook')"
   ]
  },
  {
   "cell_type": "code",
   "execution_count": null,
   "id": "e216e9d7",
   "metadata": {},
   "outputs": [],
   "source": []
  },
  {
   "cell_type": "code",
   "execution_count": 12,
   "id": "4664308e-33cb-4557-bb18-85312a319e82",
   "metadata": {},
   "outputs": [],
   "source": [
    "dataset_pt = pt.get_dataset('irds:ntcir-transfer/1/eval')"
   ]
  },
  {
   "cell_type": "markdown",
   "id": "3e954951-001c-494d-8f70-6ae8b74ce37f",
   "metadata": {
    "tags": []
   },
   "source": [
    "### Indexing"
   ]
  },
  {
   "cell_type": "code",
   "execution_count": 13,
   "id": "2ce3d68a-9545-4e48-aeed-3f0dafa19377",
   "metadata": {},
   "outputs": [],
   "source": [
    "# !rm -rf $INDEX\n",
    "!mkdir -p $INDEX"
   ]
  },
  {
   "cell_type": "code",
   "execution_count": 14,
   "id": "0d974cd0-55f8-4fae-b3d8-c2340b4a207a",
   "metadata": {},
   "outputs": [
    {
     "name": "stderr",
     "output_type": "stream",
     "text": [
      "/home/kush/Projects/NTCIR17/transfer1/.venv/lib/python3.9/site-packages/tqdm/auto.py:21: TqdmWarning: IProgress not found. Please update jupyter and ipywidgets. See https://ipywidgets.readthedocs.io/en/stable/user_install.html\n",
      "  from .autonotebook import tqdm as notebook_tqdm\n"
     ]
    },
    {
     "name": "stdout",
     "output_type": "stream",
     "text": [
      "Using mean: False\n"
     ]
    }
   ],
   "source": [
    "# indexer = pt.IterDictIndexer(os.getenv('INDEX'))\n",
    "# indexer.setProperty(\"tokeniser\", \"UTFTokeniser\")\n",
    "# indexer.setProperty(\"termpipelines\", \"\")\n",
    "from pathlib import Path\n",
    "from importlib import reload\n",
    "import models\n",
    "from models.jance.jance import PyTDenseIndexer, PyTDenseRetrieval\n",
    "reload(models.jance.jance)\n",
    "from models.jance.jance import PyTDenseIndexer, PyTDenseRetrieval\n",
    "\n",
    "indexer = PyTDenseIndexer(Path(os.getenv('INDEX')), verbose=False)"
   ]
  },
  {
   "cell_type": "code",
   "execution_count": 15,
   "id": "06ec5296-6a57-4b93-9ed9-8cdbdf512767",
   "metadata": {},
   "outputs": [],
   "source": [
    "def train_doc_generate():\n",
    "    for doc in dataset.docs_iter():\n",
    "        yield { 'docno': doc.doc_id, 'text': tokenize_text(doc.text) }"
   ]
  },
  {
   "cell_type": "code",
   "execution_count": 16,
   "id": "8c4cea39-5b7b-4f65-82d5-ea0015e86f02",
   "metadata": {},
   "outputs": [
    {
     "name": "stdout",
     "output_type": "stream",
     "text": [
      "Segment 0\n"
     ]
    },
    {
     "name": "stderr",
     "output_type": "stream",
     "text": [
      "  3%|▎         | 479/15625 [02:54<1:32:12,  2.74it/s]\n"
     ]
    },
    {
     "ename": "KeyboardInterrupt",
     "evalue": "",
     "output_type": "error",
     "traceback": [
      "\u001b[0;31m---------------------------------------------------------------------------\u001b[0m",
      "\u001b[0;31mKeyboardInterrupt\u001b[0m                         Traceback (most recent call last)",
      "File \u001b[0;32m<timed exec>:1\u001b[0m\n",
      "File \u001b[0;32m~/Projects/NTCIR17/transfer1/notebooks/../models/jance/jance.py:115\u001b[0m, in \u001b[0;36mPyTDenseIndexer.index\u001b[0;34m(self, generator)\u001b[0m\n\u001b[1;32m    112\u001b[0m     doc_inputs\u001b[39m.\u001b[39mto(\u001b[39mself\u001b[39m\u001b[39m.\u001b[39mdevice)\n\u001b[1;32m    113\u001b[0m     \u001b[39m# print('input_ids:', doc_inputs['input_ids'].shape)\u001b[39;00m\n\u001b[1;32m    114\u001b[0m     \u001b[39m# print('attention_mask:', doc_inputs['attention_mask'].shape)\u001b[39;00m\n\u001b[0;32m--> 115\u001b[0m     batch_passage_embedding \u001b[39m=\u001b[39m \u001b[39mself\u001b[39;49m\u001b[39m.\u001b[39;49mencoder\u001b[39m.\u001b[39;49mbody_emb(\u001b[39m*\u001b[39;49m\u001b[39m*\u001b[39;49mdoc_inputs)\u001b[39m.\u001b[39;49mdetach()\u001b[39m.\u001b[39;49mcpu()\n\u001b[1;32m    116\u001b[0m     passage_embedding \u001b[39m=\u001b[39m torch\u001b[39m.\u001b[39mcat((passage_embedding, batch_passage_embedding), dim\u001b[39m=\u001b[39m\u001b[39m0\u001b[39m)\n\u001b[1;32m    118\u001b[0m shard_file_path \u001b[39m=\u001b[39m \u001b[39mself\u001b[39m\u001b[39m.\u001b[39mindex_path\u001b[39m.\u001b[39mjoinpath(\u001b[39mstr\u001b[39m(segment) \u001b[39m+\u001b[39m \u001b[39m\"\u001b[39m\u001b[39m.pkl\u001b[39m\u001b[39m\"\u001b[39m)\n",
      "\u001b[0;31mKeyboardInterrupt\u001b[0m: "
     ]
    }
   ],
   "source": [
    "%%time\n",
    "index_path = indexer.index(train_doc_generate())"
   ]
  },
  {
   "cell_type": "code",
   "execution_count": null,
   "id": "55b33e38-8c2d-4cbf-ba14-1d6483d222a5",
   "metadata": {},
   "outputs": [],
   "source": [
    "!ls $INDEX"
   ]
  },
  {
   "cell_type": "markdown",
   "id": "9df08bdb-e2f7-42ed-b1d1-55946326a3ab",
   "metadata": {},
   "source": [
    "### Topics"
   ]
  },
  {
   "cell_type": "code",
   "execution_count": null,
   "id": "b64ac8b0-bd95-4f6b-bb73-2da355a6a5df",
   "metadata": {},
   "outputs": [],
   "source": [
    "def tokenize_topics():\n",
    "    import re\n",
    "    code = re.compile('[!\"#$%&\\'\\\\\\\\()*+,-./:;<=>?@[\\\\]^_`{|}~「」〔〕“”〈〉『』【】＆＊・（）＄＃＠。、？！｀＋￥％]')\n",
    "    queries = dataset_pt.get_topics(tokenise_query=False)\n",
    "    for idx, row in queries.iterrows():\n",
    "        queries.iloc[idx, 1] = code.sub('', tokenize_text(row.query))\n",
    "    return queries"
   ]
  },
  {
   "cell_type": "code",
   "execution_count": null,
   "id": "38f476d1-32b7-4764-8ad4-ef8260181cff",
   "metadata": {
    "tags": []
   },
   "outputs": [
    {
     "data": {
      "text/html": [
       "<div>\n",
       "<style scoped>\n",
       "    .dataframe tbody tr th:only-of-type {\n",
       "        vertical-align: middle;\n",
       "    }\n",
       "\n",
       "    .dataframe tbody tr th {\n",
       "        vertical-align: top;\n",
       "    }\n",
       "\n",
       "    .dataframe thead th {\n",
       "        text-align: right;\n",
       "    }\n",
       "</style>\n",
       "<table border=\"1\" class=\"dataframe\">\n",
       "  <thead>\n",
       "    <tr style=\"text-align: right;\">\n",
       "      <th></th>\n",
       "      <th>qid</th>\n",
       "      <th>query</th>\n",
       "    </tr>\n",
       "  </thead>\n",
       "  <tbody>\n",
       "    <tr>\n",
       "      <th>0</th>\n",
       "      <td>0101</td>\n",
       "      <td>Ｂ 型 肝炎</td>\n",
       "    </tr>\n",
       "    <tr>\n",
       "      <th>1</th>\n",
       "      <td>0102</td>\n",
       "      <td>異種 膵島 移植</td>\n",
       "    </tr>\n",
       "    <tr>\n",
       "      <th>2</th>\n",
       "      <td>0103</td>\n",
       "      <td>高 血圧</td>\n",
       "    </tr>\n",
       "    <tr>\n",
       "      <th>3</th>\n",
       "      <td>0104</td>\n",
       "      <td>肺 小 細胞 癌</td>\n",
       "    </tr>\n",
       "    <tr>\n",
       "      <th>4</th>\n",
       "      <td>0105</td>\n",
       "      <td>新規 キノロン 剤</td>\n",
       "    </tr>\n",
       "    <tr>\n",
       "      <th>5</th>\n",
       "      <td>0106</td>\n",
       "      <td>β ３ アドレナリン 受容 体 遺伝 子 変異</td>\n",
       "    </tr>\n",
       "    <tr>\n",
       "      <th>6</th>\n",
       "      <td>0107</td>\n",
       "      <td>塞栓 療法</td>\n",
       "    </tr>\n",
       "    <tr>\n",
       "      <th>7</th>\n",
       "      <td>0108</td>\n",
       "      <td>XML</td>\n",
       "    </tr>\n",
       "    <tr>\n",
       "      <th>8</th>\n",
       "      <td>0109</td>\n",
       "      <td>TCP の 高速 化</td>\n",
       "    </tr>\n",
       "    <tr>\n",
       "      <th>9</th>\n",
       "      <td>0110</td>\n",
       "      <td>情報 検索 の 可視 化</td>\n",
       "    </tr>\n",
       "    <tr>\n",
       "      <th>10</th>\n",
       "      <td>0111</td>\n",
       "      <td>ITS に おけ る 画像 認識</td>\n",
       "    </tr>\n",
       "    <tr>\n",
       "      <th>11</th>\n",
       "      <td>0112</td>\n",
       "      <td>放電 誘導</td>\n",
       "    </tr>\n",
       "    <tr>\n",
       "      <th>12</th>\n",
       "      <td>0113</td>\n",
       "      <td>重力 波 検出</td>\n",
       "    </tr>\n",
       "    <tr>\n",
       "      <th>13</th>\n",
       "      <td>0114</td>\n",
       "      <td>DHCP 環境 に おけ る 不正 アクセス 防止</td>\n",
       "    </tr>\n",
       "    <tr>\n",
       "      <th>14</th>\n",
       "      <td>0115</td>\n",
       "      <td>ビデオ ストリーミング</td>\n",
       "    </tr>\n",
       "    <tr>\n",
       "      <th>15</th>\n",
       "      <td>0116</td>\n",
       "      <td>公共 施設 の バリア フリー 設計</td>\n",
       "    </tr>\n",
       "    <tr>\n",
       "      <th>16</th>\n",
       "      <td>0117</td>\n",
       "      <td>歴史 史料 の 電子 化</td>\n",
       "    </tr>\n",
       "    <tr>\n",
       "      <th>17</th>\n",
       "      <td>0118</td>\n",
       "      <td>TV 会議 システム を 用い た 遠隔 地 教育</td>\n",
       "    </tr>\n",
       "    <tr>\n",
       "      <th>18</th>\n",
       "      <td>0119</td>\n",
       "      <td>生活 価値 観</td>\n",
       "    </tr>\n",
       "    <tr>\n",
       "      <th>19</th>\n",
       "      <td>0120</td>\n",
       "      <td>MPLS</td>\n",
       "    </tr>\n",
       "    <tr>\n",
       "      <th>20</th>\n",
       "      <td>0121</td>\n",
       "      <td>ネットワーク を 用い た VoD システム</td>\n",
       "    </tr>\n",
       "    <tr>\n",
       "      <th>21</th>\n",
       "      <td>0122</td>\n",
       "      <td>リテラシー と 教育</td>\n",
       "    </tr>\n",
       "    <tr>\n",
       "      <th>22</th>\n",
       "      <td>0123</td>\n",
       "      <td>細菌 バイオ フィルム</td>\n",
       "    </tr>\n",
       "    <tr>\n",
       "      <th>23</th>\n",
       "      <td>0124</td>\n",
       "      <td>抗菌 物質</td>\n",
       "    </tr>\n",
       "    <tr>\n",
       "      <th>24</th>\n",
       "      <td>0125</td>\n",
       "      <td>電解 水</td>\n",
       "    </tr>\n",
       "    <tr>\n",
       "      <th>25</th>\n",
       "      <td>0126</td>\n",
       "      <td>院内 感染 対策</td>\n",
       "    </tr>\n",
       "    <tr>\n",
       "      <th>26</th>\n",
       "      <td>0127</td>\n",
       "      <td>虚血 性 心 疾患</td>\n",
       "    </tr>\n",
       "    <tr>\n",
       "      <th>27</th>\n",
       "      <td>0128</td>\n",
       "      <td>コアグラーゼ 陰性 ブドウ 球菌</td>\n",
       "    </tr>\n",
       "    <tr>\n",
       "      <th>28</th>\n",
       "      <td>0129</td>\n",
       "      <td>宇宙 定数</td>\n",
       "    </tr>\n",
       "    <tr>\n",
       "      <th>29</th>\n",
       "      <td>0130</td>\n",
       "      <td>S 行列 の 解析 性</td>\n",
       "    </tr>\n",
       "    <tr>\n",
       "      <th>30</th>\n",
       "      <td>0131</td>\n",
       "      <td>インスタントン</td>\n",
       "    </tr>\n",
       "    <tr>\n",
       "      <th>31</th>\n",
       "      <td>0132</td>\n",
       "      <td>特異 点</td>\n",
       "    </tr>\n",
       "    <tr>\n",
       "      <th>32</th>\n",
       "      <td>0133</td>\n",
       "      <td>ヒッグス 粒子</td>\n",
       "    </tr>\n",
       "    <tr>\n",
       "      <th>33</th>\n",
       "      <td>0134</td>\n",
       "      <td>量子 重力</td>\n",
       "    </tr>\n",
       "    <tr>\n",
       "      <th>34</th>\n",
       "      <td>0135</td>\n",
       "      <td>真空 の 相 転移</td>\n",
       "    </tr>\n",
       "    <tr>\n",
       "      <th>35</th>\n",
       "      <td>0136</td>\n",
       "      <td>DHA</td>\n",
       "    </tr>\n",
       "    <tr>\n",
       "      <th>36</th>\n",
       "      <td>0137</td>\n",
       "      <td>DNA チップ</td>\n",
       "    </tr>\n",
       "    <tr>\n",
       "      <th>37</th>\n",
       "      <td>0138</td>\n",
       "      <td>安定 カルベン</td>\n",
       "    </tr>\n",
       "    <tr>\n",
       "      <th>38</th>\n",
       "      <td>0139</td>\n",
       "      <td>シック ハウス 症候 群</td>\n",
       "    </tr>\n",
       "    <tr>\n",
       "      <th>39</th>\n",
       "      <td>0140</td>\n",
       "      <td>光学 異性 体</td>\n",
       "    </tr>\n",
       "    <tr>\n",
       "      <th>40</th>\n",
       "      <td>0141</td>\n",
       "      <td>分子 設計</td>\n",
       "    </tr>\n",
       "    <tr>\n",
       "      <th>41</th>\n",
       "      <td>0142</td>\n",
       "      <td>パラフレーズ</td>\n",
       "    </tr>\n",
       "    <tr>\n",
       "      <th>42</th>\n",
       "      <td>0143</td>\n",
       "      <td>視覚 障害 者 の 図書 館 端末 利用</td>\n",
       "    </tr>\n",
       "    <tr>\n",
       "      <th>43</th>\n",
       "      <td>0144</td>\n",
       "      <td>パージング  アルゴリズム</td>\n",
       "    </tr>\n",
       "    <tr>\n",
       "      <th>44</th>\n",
       "      <td>0145</td>\n",
       "      <td>図書 館 の 立地</td>\n",
       "    </tr>\n",
       "    <tr>\n",
       "      <th>45</th>\n",
       "      <td>0146</td>\n",
       "      <td>DNA コンピュータ</td>\n",
       "    </tr>\n",
       "    <tr>\n",
       "      <th>46</th>\n",
       "      <td>0147</td>\n",
       "      <td>構造 物 の 電磁 特性</td>\n",
       "    </tr>\n",
       "    <tr>\n",
       "      <th>47</th>\n",
       "      <td>0148</td>\n",
       "      <td>有限 要素 法 に よる 応力 解析</td>\n",
       "    </tr>\n",
       "    <tr>\n",
       "      <th>48</th>\n",
       "      <td>0149</td>\n",
       "      <td>核 磁気 共鳴 イメージング に よる 記憶 の 研究</td>\n",
       "    </tr>\n",
       "  </tbody>\n",
       "</table>\n",
       "</div>"
      ],
      "text/plain": [
       "     qid                        query\n",
       "0   0101                       Ｂ 型 肝炎\n",
       "1   0102                     異種 膵島 移植\n",
       "2   0103                         高 血圧\n",
       "3   0104                     肺 小 細胞 癌\n",
       "4   0105                    新規 キノロン 剤\n",
       "5   0106      β ３ アドレナリン 受容 体 遺伝 子 変異\n",
       "6   0107                        塞栓 療法\n",
       "7   0108                          XML\n",
       "8   0109                   TCP の 高速 化\n",
       "9   0110                 情報 検索 の 可視 化\n",
       "10  0111             ITS に おけ る 画像 認識\n",
       "11  0112                        放電 誘導\n",
       "12  0113                      重力 波 検出\n",
       "13  0114    DHCP 環境 に おけ る 不正 アクセス 防止\n",
       "14  0115                  ビデオ ストリーミング\n",
       "15  0116           公共 施設 の バリア フリー 設計\n",
       "16  0117                 歴史 史料 の 電子 化\n",
       "17  0118    TV 会議 システム を 用い た 遠隔 地 教育\n",
       "18  0119                      生活 価値 観\n",
       "19  0120                         MPLS\n",
       "20  0121       ネットワーク を 用い た VoD システム\n",
       "21  0122                 リテラシー と 教育  \n",
       "22  0123                  細菌 バイオ フィルム\n",
       "23  0124                        抗菌 物質\n",
       "24  0125                         電解 水\n",
       "25  0126                     院内 感染 対策\n",
       "26  0127                    虚血 性 心 疾患\n",
       "27  0128             コアグラーゼ 陰性 ブドウ 球菌\n",
       "28  0129                        宇宙 定数\n",
       "29  0130                  S 行列 の 解析 性\n",
       "30  0131                      インスタントン\n",
       "31  0132                         特異 点\n",
       "32  0133                      ヒッグス 粒子\n",
       "33  0134                        量子 重力\n",
       "34  0135                    真空 の 相 転移\n",
       "35  0136                          DHA\n",
       "36  0137                      DNA チップ\n",
       "37  0138                      安定 カルベン\n",
       "38  0139                 シック ハウス 症候 群\n",
       "39  0140                      光学 異性 体\n",
       "40  0141                        分子 設計\n",
       "41  0142                       パラフレーズ\n",
       "42  0143         視覚 障害 者 の 図書 館 端末 利用\n",
       "43  0144                パージング  アルゴリズム\n",
       "44  0145                    図書 館 の 立地\n",
       "45  0146                   DNA コンピュータ\n",
       "46  0147                 構造 物 の 電磁 特性\n",
       "47  0148           有限 要素 法 に よる 応力 解析\n",
       "48  0149  核 磁気 共鳴 イメージング に よる 記憶 の 研究"
      ]
     },
     "execution_count": 165,
     "metadata": {},
     "output_type": "execute_result"
    }
   ],
   "source": [
    "tokenize_topics()"
   ]
  },
  {
   "cell_type": "markdown",
   "id": "29cc13bf-ba26-4450-8105-739caced4991",
   "metadata": {},
   "source": [
    "### Retrieval\n",
    "\n",
    "- The performance value (e.g., nDCG) is expected to be 0.0.\n",
    "- You can use the generated run files for submission."
   ]
  },
  {
   "cell_type": "code",
   "execution_count": null,
   "id": "a4c404fb-f369-4118-ae91-08bdd8fd9650",
   "metadata": {},
   "outputs": [],
   "source": [
    "# Load existing index files\n",
    "# indexref = pt.IndexFactory.of(os.getenv('INDEX'))"
   ]
  },
  {
   "cell_type": "code",
   "execution_count": null,
   "id": "0daa5477-b7be-42e5-bc8f-af29811a9d9b",
   "metadata": {},
   "outputs": [],
   "source": [
    "!mkdir -p $RUN"
   ]
  },
  {
   "cell_type": "code",
   "execution_count": null,
   "id": "805a6cb8-2993-4ae8-b4e6-192710a115e2",
   "metadata": {},
   "outputs": [
    {
     "ename": "NameError",
     "evalue": "name 'index_path' is not defined",
     "output_type": "error",
     "traceback": [
      "\u001b[0;31m---------------------------------------------------------------------------\u001b[0m",
      "\u001b[0;31mNameError\u001b[0m                                 Traceback (most recent call last)",
      "Cell \u001b[0;32mIn[168], line 2\u001b[0m\n\u001b[1;32m      1\u001b[0m \u001b[39m# bm25 = pt.BatchRetrieve(indexref, wmodel=\"BM25\")\u001b[39;00m\n\u001b[0;32m----> 2\u001b[0m jance \u001b[39m=\u001b[39m PyTDenseRetrieval(index_path)\n",
      "\u001b[0;31mNameError\u001b[0m: name 'index_path' is not defined"
     ]
    }
   ],
   "source": [
    "# bm25 = pt.BatchRetrieve(indexref, wmodel=\"BM25\")\n",
    "jance = PyTDenseRetrieval(index_path)"
   ]
  },
  {
   "cell_type": "code",
   "execution_count": null,
   "id": "9f12d2ba-2c35-42fe-9959-33e82789d2c0",
   "metadata": {},
   "outputs": [],
   "source": [
    "# dummy qrels\n",
    "import pandas as pd\n",
    "dummy_qrels = pd.DataFrame(dataset_pt.get_topics(), columns=['qid'])\n",
    "dummy_qrels['docno'] = 'docno'\n",
    "dummy_qrels['label'] = 0"
   ]
  },
  {
   "cell_type": "code",
   "execution_count": null,
   "id": "a8695de6-e2cf-4a8a-b05e-a3c4f09e097a",
   "metadata": {},
   "outputs": [
    {
     "name": "stdout",
     "output_type": "stream",
     "text": [
      "CPU times: user 4.06 s, sys: 2.18 s, total: 6.24 s\n",
      "Wall time: 2.13 s\n"
     ]
    },
    {
     "data": {
      "text/html": [
       "<div>\n",
       "<style scoped>\n",
       "    .dataframe tbody tr th:only-of-type {\n",
       "        vertical-align: middle;\n",
       "    }\n",
       "\n",
       "    .dataframe tbody tr th {\n",
       "        vertical-align: top;\n",
       "    }\n",
       "\n",
       "    .dataframe thead th {\n",
       "        text-align: right;\n",
       "    }\n",
       "</style>\n",
       "<table border=\"1\" class=\"dataframe\">\n",
       "  <thead>\n",
       "    <tr style=\"text-align: right;\">\n",
       "      <th></th>\n",
       "      <th>name</th>\n",
       "      <th>nDCG</th>\n",
       "    </tr>\n",
       "  </thead>\n",
       "  <tbody>\n",
       "    <tr>\n",
       "      <th>0</th>\n",
       "      <td>MyRun-BM25</td>\n",
       "      <td>0.0</td>\n",
       "    </tr>\n",
       "  </tbody>\n",
       "</table>\n",
       "</div>"
      ],
      "text/plain": [
       "         name  nDCG\n",
       "0  MyRun-BM25   0.0"
      ]
     },
     "execution_count": 40,
     "metadata": {},
     "output_type": "execute_result"
    }
   ],
   "source": [
    "%%time\n",
    "from pyterrier.measures import *\n",
    "pt.Experiment(\n",
    "    [jance],\n",
    "    tokenize_topics(),\n",
    "    dummy_qrels,\n",
    "    eval_metrics=[nDCG],\n",
    "    names = [\"MyRun-BM25\"],\n",
    "    save_dir = os.getenv('RUN'),\n",
    "    save_mode = \"overwrite\"\n",
    ")"
   ]
  },
  {
   "cell_type": "code",
   "execution_count": null,
   "id": "9718c59a-0c32-40b0-b2a1-883ac5bb8a65",
   "metadata": {},
   "outputs": [
    {
     "name": "stdout",
     "output_type": "stream",
     "text": [
      "0101 Q0 kaken-j-0911436000 0 21.86485284250732 pyterrier\n",
      "0101 Q0 kaken-j-0921440800 1 21.733548660790195 pyterrier\n",
      "0101 Q0 kaken-j-0960142800 2 21.6993557888258 pyterrier\n",
      "0101 Q0 kaken-j-0975101400 3 21.659867826004042 pyterrier\n",
      "0101 Q0 kaken-j-0934033100 4 21.651742953172338 pyterrier\n",
      "0101 Q0 kaken-j-0912100600 5 21.594389793069617 pyterrier\n",
      "0101 Q0 kaken-j-0882391600 6 21.511995261510908 pyterrier\n",
      "0101 Q0 kaken-j-0883102100 7 21.46097823369766 pyterrier\n",
      "0101 Q0 kaken-j-0937129200 8 21.450990698888955 pyterrier\n",
      "0101 Q0 kaken-j-0941469900 9 21.421462357753665 pyterrier\n"
     ]
    }
   ],
   "source": [
    "!gunzip -c $RUN/MyRun-BM25.res.gz | head"
   ]
  }
 ],
 "metadata": {
  "environment": {
   "kernel": "python3",
   "name": "common-cpu.m102",
   "type": "gcloud",
   "uri": "gcr.io/deeplearning-platform-release/base-cpu:m102"
  },
  "kernelspec": {
   "display_name": "Python 3",
   "language": "python",
   "name": "python3"
  },
  "language_info": {
   "codemirror_mode": {
    "name": "ipython",
    "version": 3
   },
   "file_extension": ".py",
   "mimetype": "text/x-python",
   "name": "python",
   "nbconvert_exporter": "python",
   "pygments_lexer": "ipython3",
   "version": "3.9.15"
  }
 },
 "nbformat": 4,
 "nbformat_minor": 5
}
